{
 "cells": [
  {
   "cell_type": "markdown",
   "metadata": {},
   "source": [
    "# Zahra Khatibi - 610398119 - Deep Learning HomeWork"
   ]
  },
  {
   "cell_type": "markdown",
   "metadata": {},
   "source": [
    "## MLP Approach for Mnist Fashion Problem"
   ]
  },
  {
   "cell_type": "code",
   "execution_count": 40,
   "metadata": {},
   "outputs": [],
   "source": [
    "import numpy as np\n",
    "import pandas as pd\n",
    "import os\n",
    "import sys\n",
    "import math\n",
    "import plotly.express as px"
   ]
  },
  {
   "cell_type": "markdown",
   "metadata": {},
   "source": [
    "### Initially, following the provided instructions, we read the data from the input and divide all inputs by 255 to scale the input values between 0 and 1. Furthermore, for the cross-entropy part, it is necessary to convert the y values into a one-hot format. This will be elaborated upon in the following sections.\n",
    "### In this function, we transform the values of y into a 1x10 vector, where the index y[i] of that vector equals 1, and the rest are set to 0."
   ]
  },
  {
   "cell_type": "markdown",
   "metadata": {},
   "source": [
    "### In this function, we convert the values of y into a 1x10 vector where the i-th index of that vector equals 1 and the rest are zero."
   ]
  },
  {
   "cell_type": "code",
   "execution_count": 2,
   "metadata": {},
   "outputs": [],
   "source": [
    "def one_hot(y):\n",
    "    result = np.zeros((len(y), 10))\n",
    "    for i in range(len(y)):\n",
    "        result[i, y[i]] = 1\n",
    "    return result"
   ]
  },
  {
   "cell_type": "code",
   "execution_count": 3,
   "metadata": {},
   "outputs": [],
   "source": [
    "with open (\"train.npy\" , \"rb\") as f:\n",
    "    x_train = np.load(f, allow_pickle = True)\n",
    "    y_train = np.load(f, allow_pickle = True)\n",
    "x_train = x_train.astype(int) / 255\n",
    "y_train = one_hot(y_train)"
   ]
  },
  {
   "cell_type": "code",
   "execution_count": 4,
   "metadata": {},
   "outputs": [],
   "source": [
    "with open (\"val.npy\" , \"rb\") as f:\n",
    "    x_val = np.load(f, allow_pickle = True)\n",
    "    y_val = np.load(f, allow_pickle = True)\n",
    "x_val = x_val.astype(int) / 255\n",
    "y_val = one_hot(y_val)"
   ]
  },
  {
   "cell_type": "code",
   "execution_count": 5,
   "metadata": {},
   "outputs": [],
   "source": [
    "with open (\"test.npy\" , \"rb\") as f:\n",
    "    x_test = np.load(f, allow_pickle = True)\n",
    "    y_test = np.load(f, allow_pickle = True)\n",
    "x_test = x_test.astype(int) / 255\n",
    "y_test = one_hot(y_test)"
   ]
  },
  {
   "cell_type": "code",
   "execution_count": 6,
   "metadata": {},
   "outputs": [
    {
     "name": "stdout",
     "output_type": "stream",
     "text": [
      "x_train.shape = (50000, 784) -- y_train.shape = (50000, 10)\n",
      "x_val.shape = (10000, 784) -- y_val.shape = (10000, 10)\n",
      "x_test.shape = (10000, 784) -- y_test.shape = (10000, 10)\n"
     ]
    }
   ],
   "source": [
    "print(f\"{x_train.shape = } -- {y_train.shape = }\")\n",
    "print(f\"{x_val.shape = } -- {y_val.shape = }\")\n",
    "print(f\"{x_test.shape = } -- {y_test.shape = }\")"
   ]
  },
  {
   "cell_type": "markdown",
   "metadata": {},
   "source": [
    "## In this section, the MLP neural network is implemented."
   ]
  },
  {
   "cell_type": "code",
   "execution_count": 15,
   "metadata": {},
   "outputs": [],
   "source": [
    "class MLP:\n",
    "\n",
    "    def __init__(self, input_size, output_size, hiddens, activations, lr ,criterion, lamda):\n",
    "\n",
    "        self.train_mode = True\n",
    "        self.nlayers = len(hiddens)+1\n",
    "        self.input_size = input_size\n",
    "        self.output_size = output_size\n",
    "        self.activations = activations\n",
    "        self.lr = lr\n",
    "        self.criterion = criterion\n",
    "        self.lamda = lamda\n",
    "        \n",
    "        input_sizes = [self.input_size]\n",
    "        input_sizes.extend(hiddens)\n",
    "        output_sizes = hiddens\n",
    "        output_sizes.append(self.output_size)\n",
    "        self.linear_layers = []\n",
    "        \n",
    "        for k in range(self.nlayers):\n",
    "            if k == 0:\n",
    "                prev_layer = self.input_size\n",
    "            else:\n",
    "                prev_layer = output_sizes[k-1]\n",
    "            self.linear_layers.append(Linear(input_sizes[k], output_sizes[k], prev_layer))\n",
    "\n",
    "    def forward(self, x):\n",
    "\n",
    "        forward_input = x\n",
    "        for k in range(self.nlayers):\n",
    "            output = self.linear_layers[k].forward(forward_input)\n",
    "            output = self.activations[k](output)\n",
    "            forward_input = output \n",
    "        self.output = output\n",
    "        return output\n",
    "\n",
    "    def zero_grads(self):\n",
    "\n",
    "        for i in range(len(self.linear_layers)):\n",
    "            layers = self.linear_layers\n",
    "            layers[i].dW.fill(0.0)\n",
    "            layers[i].db.fill(0.0)\n",
    "\n",
    "    def step(self):\n",
    "        for i in range(len(self.linear_layers)):\n",
    "            self.linear_layers[i].update_W = -1 * (self.lr * self.linear_layers[i].dW)\n",
    "            self.linear_layers[i].W = self.linear_layers[i].W + self.linear_layers[i].update_W \n",
    "            self.linear_layers[i].update_b = -1 * (self.lr * self.linear_layers[i].db)\n",
    "            self.linear_layers[i].b = self.linear_layers[i].b + self.linear_layers[i].update_b\n",
    "        \n",
    "\n",
    "        \n",
    "    def compute_cost(self, y, lamda):\n",
    "        cross = -1 * np.mean(np.sum(y * np.log(self.output), axis=1))\n",
    "        p = 0\n",
    "        for i in range(len(self.linear_layers)):\n",
    "            p += np.sum(self.linear_layers[i].W ** 2)\n",
    "        return cross + (lamda /(2 * len(y))) * p\n",
    "        \n",
    "    \n",
    "    def backward(self, labels, lamda):\n",
    "        criterion_derivative = self.output - labels\n",
    "        for k in reversed(range(len(self.linear_layers))):\n",
    "            if k == self.nlayers-1:\n",
    "                delta = self.output - labels\n",
    "            else:\n",
    "                delta = criterion_derivative * self.activations[k].derivative()\n",
    "            linear_backward = self.linear_layers[k].backward(delta, lamda)\n",
    "            criterion_derivative = linear_backward\n",
    "        return criterion_derivative\n",
    "    \n",
    "    def split_batch(self, x, y, batch_size):\n",
    "        dt = np.concatenate([x, y] , axis=1)\n",
    "        np.random.shuffle(dt)\n",
    "        length = len(dt) // batch_size\n",
    "        batches = []\n",
    "        for batch_n in range(length):\n",
    "            row_start, row_end = batch_n * batch_size, (batch_n + 1) * batch_size\n",
    "            x_batch, y_batch = dt[row_start:row_end, :-10], dt[row_start:row_end, -10:]\n",
    "            batches.append((x_batch, y_batch))\n",
    "        return batches\n",
    "    \n",
    "    \n",
    "    def fit(self, x, y, epoch, batch_size, x_val, y_val, Print=True):\n",
    "        self.zero_grads()\n",
    "        lst_costs = []\n",
    "        val_costs = []\n",
    "        for epoch_no in range(epoch):\n",
    "            batches = self.split_batch(x, y, batch_size)\n",
    "            costs = []\n",
    "            for x_batch, y_batch in batches:\n",
    "                self.forward(x_batch)\n",
    "                cost = self.compute_cost(y_batch, self.lamda)\n",
    "                self.backward(y_batch, self.lamda)\n",
    "                self.step()\n",
    "                costs.append(cost)\n",
    "            y_val_pred = self.forward(x_val)\n",
    "            val_cost = self.compute_cost(y_val, self.lamda)\n",
    "            lst_costs.append(np.mean(costs))\n",
    "            val_costs.append(val_cost)\n",
    "            if Print:\n",
    "                print(f'train cost in {epoch_no} is : {np.mean(costs)}, ------ , valid cost : {val_cost}')\n",
    "        return lst_costs, val_costs\n",
    "        \n",
    "\n",
    "    def error(self, labels):\n",
    "        return (np.argmax(self.output, axis = 1) != np.argmax(labels, axis = 1)).sum()\n",
    "\n",
    "    def total_loss(self, labels):\n",
    "        return self.criterion(self.output, labels).sum()\n",
    "\n",
    "    def __call__(self, x):\n",
    "        return self.forward(x)\n",
    "\n",
    "    def train(self):\n",
    "        self.train_mode = True\n",
    "\n",
    "    def eval(self):\n",
    "        self.train_mode = False\n"
   ]
  },
  {
   "cell_type": "markdown",
   "metadata": {},
   "source": [
    "### In this section, the ELU function is implemented."
   ]
  },
  {
   "cell_type": "code",
   "execution_count": 8,
   "metadata": {},
   "outputs": [],
   "source": [
    "class ELU:\n",
    "\n",
    "    def __init__(self):\n",
    "        self.state = None\n",
    "\n",
    "    def forward(self, x):\n",
    "        ELU_forward = np.where(x < 0, 0, x)\n",
    "                    # np.where(x>0 ,  x , np.exp(x))    -------> this code had error, \n",
    "                                                               # I decide to use Relu with alpha = 0\n",
    "                                                               # becuase it is a kind of ELU\n",
    "        self.state = ELU_forward\n",
    "        return ELU_forward\n",
    "\n",
    "    def derivative(self):\n",
    "        ELU_derivative = np.where(self.state < 0, 0, 1)\n",
    "        return ELU_derivative\n",
    "    \n",
    "    def __call__(self, x):\n",
    "        return self.forward(x)\n",
    "    \n",
    "    \n",
    "class Softmax:\n",
    "    \n",
    "    def __init__(self):\n",
    "        self.state = None\n",
    "    \n",
    "    \n",
    "    def forward(self, z):\n",
    "        return np.exp(z) / np.sum(np.exp(z), axis=1, keepdims=True)\n",
    "    \n",
    "    def __call__(self, z):\n",
    "        return self.forward(z)\n",
    "        "
   ]
  },
  {
   "cell_type": "code",
   "execution_count": 9,
   "metadata": {},
   "outputs": [],
   "source": [
    "class Linear():\n",
    "    \n",
    "    def weight_init(self, in_feature, out_feature):\n",
    "        return np.random.normal(0, np.sqrt(2/self.p), size=(in_feature, out_feature))\n",
    "    \n",
    "    \n",
    "    def __init__(self, in_feature, out_feature, prev_layer):\n",
    "\n",
    "        self.p = prev_layer\n",
    "        self.W = self.weight_init(in_feature, out_feature)\n",
    "        self.b = self.weight_init(1, out_feature)\n",
    "\n",
    "        self.dW = np.zeros(None)\n",
    "        self.db = np.zeros(None)\n",
    "\n",
    "        self.update_W = np.zeros(None)\n",
    "        self.update_b = np.zeros(None)\n",
    "\n",
    "    def __call__(self, x):\n",
    "        return self.forward(x)\n",
    "\n",
    "    def forward(self, x):\n",
    "        self.x = x\n",
    "        linear_forward = np.dot(x, self.W) + self.b\n",
    "\n",
    "        return linear_forward\n",
    "\n",
    "    def backward(self, delta, lamda):\n",
    "\n",
    "        batch_size = self.x.shape[0]\n",
    "\n",
    "        self.dW = (np.dot(self.x.T, delta) / batch_size) + lamda * self.W\n",
    "        self.db = np.sum(delta, axis=0, keepdims=True) / batch_size\n",
    "\n",
    "        dx = np.dot(delta, self.W.T)\n",
    "        return dx\n",
    "    \n",
    "    def __str__(self):\n",
    "        return f'{self.W.shape}'"
   ]
  },
  {
   "cell_type": "markdown",
   "metadata": {},
   "source": [
    "### In this section, the Softmax Cross Entropy is implemented."
   ]
  },
  {
   "cell_type": "code",
   "execution_count": 10,
   "metadata": {},
   "outputs": [],
   "source": [
    "class SoftmaxCrossEntropy:\n",
    "\n",
    "    def __init__(self):\n",
    "        self.logits = None\n",
    "        self.labels = None\n",
    "        self.loss = None\n",
    "\n",
    "    def forward(self, x, y):\n",
    "        self.logits = x\n",
    "        self.labels = y\n",
    "\n",
    "        c = 0.01 \n",
    "        sm_cross_entropy = np.empty(x.shape[0])\n",
    "        for idx, item in enumerate(x):\n",
    "            logsumexp = np.log(np.sum(np.exp(item - c))) + c\n",
    "            sm_cross_entropy[idx] = -np.sum(y[idx] * (np.log(np.exp(item)) - logsumexp))\n",
    "    \n",
    "        return sm_cross_entropy\n",
    "\n",
    "    def derivative(self):\n",
    "        return self.activation - self.labels"
   ]
  },
  {
   "cell_type": "markdown",
   "metadata": {},
   "source": [
    "### Running the model with a learning rate of 0.01 and lambda (regularization parameter) of 0.01."
   ]
  },
  {
   "cell_type": "code",
   "execution_count": 50,
   "metadata": {},
   "outputs": [
    {
     "name": "stderr",
     "output_type": "stream",
     "text": [
      "<ipython-input-9-49bbdb1b7823>:30: DeprecationWarning:\n",
      "\n",
      "Passing None into shape arguments as an alias for () is deprecated.\n",
      "\n",
      "<ipython-input-9-49bbdb1b7823>:31: DeprecationWarning:\n",
      "\n",
      "Passing None into shape arguments as an alias for () is deprecated.\n",
      "\n",
      "<ipython-input-9-49bbdb1b7823>:33: DeprecationWarning:\n",
      "\n",
      "Passing None into shape arguments as an alias for () is deprecated.\n",
      "\n",
      "<ipython-input-9-49bbdb1b7823>:34: DeprecationWarning:\n",
      "\n",
      "Passing None into shape arguments as an alias for () is deprecated.\n",
      "\n"
     ]
    },
    {
     "name": "stdout",
     "output_type": "stream",
     "text": [
      "train cost in 0 is : 0.8773208730428843, ------ , valid cost : 0.6256397081989992\n",
      "train cost in 1 is : 0.6291680758881095, ------ , valid cost : 0.5570634829474735\n",
      "train cost in 2 is : 0.5803318454843007, ------ , valid cost : 0.522127698719979\n",
      "train cost in 3 is : 0.5527957935748332, ------ , valid cost : 0.5210841168984782\n",
      "train cost in 4 is : 0.5416702803707263, ------ , valid cost : 0.5017608789185678\n",
      "train cost in 5 is : 0.5312211880419548, ------ , valid cost : 0.4988089790832776\n",
      "train cost in 6 is : 0.5216221146789742, ------ , valid cost : 0.5182434166884564\n",
      "train cost in 7 is : 0.5153973364198711, ------ , valid cost : 0.48644846677683046\n",
      "train cost in 8 is : 0.5084356188154485, ------ , valid cost : 0.49048810381561797\n",
      "train cost in 9 is : 0.5040755653098936, ------ , valid cost : 0.4957860784083518\n",
      "train cost in 10 is : 0.49926204084545994, ------ , valid cost : 0.5037790773684351\n",
      "train cost in 11 is : 0.4952590217949725, ------ , valid cost : 0.4853467529829441\n",
      "train cost in 12 is : 0.492380439850599, ------ , valid cost : 0.4884514376961707\n",
      "train cost in 13 is : 0.4893299094391596, ------ , valid cost : 0.48069346278175573\n",
      "train cost in 14 is : 0.4881620182789475, ------ , valid cost : 0.4825591089433917\n",
      "train cost in 15 is : 0.48663041749081887, ------ , valid cost : 0.48690592686462597\n",
      "train cost in 16 is : 0.4845063324893524, ------ , valid cost : 0.4804150176969628\n",
      "train cost in 17 is : 0.4840300031260962, ------ , valid cost : 0.48103934658482556\n",
      "train cost in 18 is : 0.48381526565074295, ------ , valid cost : 0.46989470134222455\n",
      "train cost in 19 is : 0.4826987927182364, ------ , valid cost : 0.47143637862598603\n"
     ]
    }
   ],
   "source": [
    "np.random.seed(42)\n",
    "input_size = 784\n",
    "output_size = 10\n",
    "hiddens = [32, 32, 32]\n",
    "criterion = SoftmaxCrossEntropy()\n",
    "activations = [ELU(), ELU(), ELU(),Softmax()]\n",
    "lr = 0.01\n",
    "model = MLP(input_size, output_size, hiddens, activations, lr, criterion, lamda=0.01)\n",
    "model.fit(x_train, y_train, epoch=20, batch_size=32, x_val=x_val, y_val=y_val)"
   ]
  },
  {
   "cell_type": "markdown",
   "metadata": {},
   "source": [
    "### Running the model on different parameters."
   ]
  },
  {
   "cell_type": "code",
   "execution_count": 12,
   "metadata": {},
   "outputs": [
    {
     "name": "stderr",
     "output_type": "stream",
     "text": [
      "<ipython-input-9-49bbdb1b7823>:30: DeprecationWarning: Passing None into shape arguments as an alias for () is deprecated.\n",
      "  self.dW = np.zeros(None)\n",
      "<ipython-input-9-49bbdb1b7823>:31: DeprecationWarning: Passing None into shape arguments as an alias for () is deprecated.\n",
      "  self.db = np.zeros(None)\n",
      "<ipython-input-9-49bbdb1b7823>:33: DeprecationWarning: Passing None into shape arguments as an alias for () is deprecated.\n",
      "  self.update_W = np.zeros(None)\n",
      "<ipython-input-9-49bbdb1b7823>:34: DeprecationWarning: Passing None into shape arguments as an alias for () is deprecated.\n",
      "  self.update_b = np.zeros(None)\n",
      "<ipython-input-7-343334165462>:83: RuntimeWarning: divide by zero encountered in log\n",
      "  cross = -1 * np.mean(np.sum(y * np.log(self.output), axis=1))\n",
      "<ipython-input-7-343334165462>:83: RuntimeWarning: invalid value encountered in multiply\n",
      "  cross = -1 * np.mean(np.sum(y * np.log(self.output), axis=1))\n",
      "<ipython-input-8-714293817c37>:32: RuntimeWarning: overflow encountered in exp\n",
      "  return np.exp(z) / np.sum(np.exp(z), axis=1, keepdims=True)\n",
      "<ipython-input-8-714293817c37>:32: RuntimeWarning: invalid value encountered in true_divide\n",
      "  return np.exp(z) / np.sum(np.exp(z), axis=1, keepdims=True)\n"
     ]
    }
   ],
   "source": [
    "lr_values = [0.01, 0.05]\n",
    "lamda_values = [0.01,0.03,0.05]\n",
    "train_collect, valid_collect = {}, {}\n",
    "for curr_lr in lr_values:\n",
    "    for curr_lamda in lamda_values:\n",
    "        input_size = 784\n",
    "        output_size = 10\n",
    "        hiddens = [32, 32, 32]\n",
    "        criterion = SoftmaxCrossEntropy()\n",
    "        activations = [ELU(), ELU(), ELU(),Softmax()]\n",
    "        model = MLP(input_size, output_size, hiddens, activations, curr_lr, criterion, curr_lamda)\n",
    "        costs_train , costs_val = model.fit(x_train, y_train, epoch=20, batch_size=32, x_val=x_val, y_val=y_val,Print=False)\n",
    "        \n",
    "        train_collect[f'lr:{curr_lr},lamda:{curr_lamda}'] = costs_train\n",
    "        valid_collect[f'lr:{curr_lr},lamda:{curr_lamda}'] = costs_val"
   ]
  },
  {
   "cell_type": "markdown",
   "metadata": {},
   "source": [
    "### Based on the cost values in the previous models, we will plot a boxplot."
   ]
  },
  {
   "cell_type": "code",
   "execution_count": 30,
   "metadata": {},
   "outputs": [
    {
     "data": {
      "application/vnd.plotly.v1+json": {
       "config": {
        "plotlyServerURL": "https://plot.ly"
       },
       "data": [
        {
         "alignmentgroup": "True",
         "hovertemplate": "variable=%{x}<br>value=%{y}<extra></extra>",
         "legendgroup": "",
         "marker": {
          "color": "#636efa"
         },
         "name": "",
         "notched": false,
         "offsetgroup": "",
         "orientation": "v",
         "showlegend": false,
         "type": "box",
         "x": [
          "lr:0.01,lamda:0.01",
          "lr:0.01,lamda:0.01",
          "lr:0.01,lamda:0.01",
          "lr:0.01,lamda:0.01",
          "lr:0.01,lamda:0.01",
          "lr:0.01,lamda:0.01",
          "lr:0.01,lamda:0.01",
          "lr:0.01,lamda:0.01",
          "lr:0.01,lamda:0.01",
          "lr:0.01,lamda:0.01",
          "lr:0.01,lamda:0.01",
          "lr:0.01,lamda:0.01",
          "lr:0.01,lamda:0.01",
          "lr:0.01,lamda:0.01",
          "lr:0.01,lamda:0.01",
          "lr:0.01,lamda:0.01",
          "lr:0.01,lamda:0.01",
          "lr:0.01,lamda:0.01",
          "lr:0.01,lamda:0.01",
          "lr:0.01,lamda:0.01",
          "lr:0.01,lamda:0.03",
          "lr:0.01,lamda:0.03",
          "lr:0.01,lamda:0.03",
          "lr:0.01,lamda:0.03",
          "lr:0.01,lamda:0.03",
          "lr:0.01,lamda:0.03",
          "lr:0.01,lamda:0.03",
          "lr:0.01,lamda:0.03",
          "lr:0.01,lamda:0.03",
          "lr:0.01,lamda:0.03",
          "lr:0.01,lamda:0.03",
          "lr:0.01,lamda:0.03",
          "lr:0.01,lamda:0.03",
          "lr:0.01,lamda:0.03",
          "lr:0.01,lamda:0.03",
          "lr:0.01,lamda:0.03",
          "lr:0.01,lamda:0.03",
          "lr:0.01,lamda:0.03",
          "lr:0.01,lamda:0.03",
          "lr:0.01,lamda:0.03",
          "lr:0.01,lamda:0.05",
          "lr:0.01,lamda:0.05",
          "lr:0.01,lamda:0.05",
          "lr:0.01,lamda:0.05",
          "lr:0.01,lamda:0.05",
          "lr:0.01,lamda:0.05",
          "lr:0.01,lamda:0.05",
          "lr:0.01,lamda:0.05",
          "lr:0.01,lamda:0.05",
          "lr:0.01,lamda:0.05",
          "lr:0.01,lamda:0.05",
          "lr:0.01,lamda:0.05",
          "lr:0.01,lamda:0.05",
          "lr:0.01,lamda:0.05",
          "lr:0.01,lamda:0.05",
          "lr:0.01,lamda:0.05",
          "lr:0.01,lamda:0.05",
          "lr:0.01,lamda:0.05",
          "lr:0.01,lamda:0.05",
          "lr:0.01,lamda:0.05",
          "lr:0.05,lamda:0.01",
          "lr:0.05,lamda:0.01",
          "lr:0.05,lamda:0.01",
          "lr:0.05,lamda:0.01",
          "lr:0.05,lamda:0.01",
          "lr:0.05,lamda:0.01",
          "lr:0.05,lamda:0.01",
          "lr:0.05,lamda:0.01",
          "lr:0.05,lamda:0.01",
          "lr:0.05,lamda:0.01",
          "lr:0.05,lamda:0.01",
          "lr:0.05,lamda:0.01",
          "lr:0.05,lamda:0.01",
          "lr:0.05,lamda:0.01",
          "lr:0.05,lamda:0.01",
          "lr:0.05,lamda:0.01",
          "lr:0.05,lamda:0.01",
          "lr:0.05,lamda:0.01",
          "lr:0.05,lamda:0.01",
          "lr:0.05,lamda:0.01",
          "lr:0.05,lamda:0.03",
          "lr:0.05,lamda:0.03",
          "lr:0.05,lamda:0.03",
          "lr:0.05,lamda:0.03",
          "lr:0.05,lamda:0.03",
          "lr:0.05,lamda:0.03",
          "lr:0.05,lamda:0.03",
          "lr:0.05,lamda:0.03",
          "lr:0.05,lamda:0.03",
          "lr:0.05,lamda:0.03",
          "lr:0.05,lamda:0.03",
          "lr:0.05,lamda:0.03",
          "lr:0.05,lamda:0.03",
          "lr:0.05,lamda:0.03",
          "lr:0.05,lamda:0.03",
          "lr:0.05,lamda:0.03",
          "lr:0.05,lamda:0.03",
          "lr:0.05,lamda:0.03",
          "lr:0.05,lamda:0.03",
          "lr:0.05,lamda:0.03",
          "lr:0.05,lamda:0.05",
          "lr:0.05,lamda:0.05",
          "lr:0.05,lamda:0.05",
          "lr:0.05,lamda:0.05",
          "lr:0.05,lamda:0.05",
          "lr:0.05,lamda:0.05",
          "lr:0.05,lamda:0.05",
          "lr:0.05,lamda:0.05",
          "lr:0.05,lamda:0.05",
          "lr:0.05,lamda:0.05",
          "lr:0.05,lamda:0.05",
          "lr:0.05,lamda:0.05",
          "lr:0.05,lamda:0.05",
          "lr:0.05,lamda:0.05",
          "lr:0.05,lamda:0.05",
          "lr:0.05,lamda:0.05",
          "lr:0.05,lamda:0.05",
          "lr:0.05,lamda:0.05",
          "lr:0.05,lamda:0.05",
          "lr:0.05,lamda:0.05",
          "lr:0.1,lamda:0.01",
          "lr:0.1,lamda:0.01",
          "lr:0.1,lamda:0.01",
          "lr:0.1,lamda:0.01",
          "lr:0.1,lamda:0.01",
          "lr:0.1,lamda:0.01",
          "lr:0.1,lamda:0.01",
          "lr:0.1,lamda:0.01",
          "lr:0.1,lamda:0.01",
          "lr:0.1,lamda:0.01",
          "lr:0.1,lamda:0.01",
          "lr:0.1,lamda:0.01",
          "lr:0.1,lamda:0.01",
          "lr:0.1,lamda:0.01",
          "lr:0.1,lamda:0.01",
          "lr:0.1,lamda:0.01",
          "lr:0.1,lamda:0.01",
          "lr:0.1,lamda:0.01",
          "lr:0.1,lamda:0.01",
          "lr:0.1,lamda:0.01",
          "lr:0.1,lamda:0.03",
          "lr:0.1,lamda:0.03",
          "lr:0.1,lamda:0.03",
          "lr:0.1,lamda:0.03",
          "lr:0.1,lamda:0.03",
          "lr:0.1,lamda:0.03",
          "lr:0.1,lamda:0.03",
          "lr:0.1,lamda:0.03",
          "lr:0.1,lamda:0.03",
          "lr:0.1,lamda:0.03",
          "lr:0.1,lamda:0.03",
          "lr:0.1,lamda:0.03",
          "lr:0.1,lamda:0.03",
          "lr:0.1,lamda:0.03",
          "lr:0.1,lamda:0.03",
          "lr:0.1,lamda:0.03",
          "lr:0.1,lamda:0.03",
          "lr:0.1,lamda:0.03",
          "lr:0.1,lamda:0.03",
          "lr:0.1,lamda:0.03",
          "lr:0.1,lamda:0.05",
          "lr:0.1,lamda:0.05",
          "lr:0.1,lamda:0.05",
          "lr:0.1,lamda:0.05",
          "lr:0.1,lamda:0.05",
          "lr:0.1,lamda:0.05",
          "lr:0.1,lamda:0.05",
          "lr:0.1,lamda:0.05",
          "lr:0.1,lamda:0.05",
          "lr:0.1,lamda:0.05",
          "lr:0.1,lamda:0.05",
          "lr:0.1,lamda:0.05",
          "lr:0.1,lamda:0.05",
          "lr:0.1,lamda:0.05",
          "lr:0.1,lamda:0.05",
          "lr:0.1,lamda:0.05",
          "lr:0.1,lamda:0.05",
          "lr:0.1,lamda:0.05",
          "lr:0.1,lamda:0.05",
          "lr:0.1,lamda:0.05"
         ],
         "x0": " ",
         "xaxis": "x",
         "y": [
          0.8500358391508605,
          0.5992236914336498,
          0.5494605174649189,
          0.5263895541619746,
          0.511443802103761,
          0.5033956750089114,
          0.49735888004330336,
          0.49073760057814714,
          0.4854940458437383,
          0.4829205493189114,
          0.479485373304306,
          0.4782191784821055,
          0.47635621279485313,
          0.4752225080294896,
          0.47350723379955134,
          0.47485911711779943,
          0.4738236422268211,
          0.4734415320144537,
          0.47289092224793183,
          0.4744063776160254,
          0.94431124801422,
          0.7021874564762773,
          0.6571814375680463,
          0.6418908865602722,
          0.6388152988400086,
          0.6384056458780705,
          0.6402519709206416,
          0.6413355237019489,
          0.6428127990962865,
          0.6426462752394655,
          0.6432023139695734,
          0.6436988657019471,
          0.6425271338213501,
          0.6425396448488748,
          0.6426709806603309,
          0.6433281269381824,
          0.646165145938405,
          0.6465947702297105,
          0.6453285193202485,
          0.6499971368582106,
          0.9974431469442153,
          0.7733859794005122,
          0.7608928331141123,
          0.7609079888398451,
          0.7666084088965647,
          0.7700012513009519,
          0.7756055379888809,
          0.7789919197367715,
          0.782224789695945,
          0.7851512110322578,
          0.7859357859293746,
          0.7808348929732326,
          0.7758442349007284,
          0.7729686007426083,
          0.7761178693996027,
          0.7799603887363777,
          0.7910659279328272,
          0.8059794807145212,
          0.8248814127469349,
          0.8389029441438771,
          0.7235109649406031,
          0.584469155410754,
          0.591152663638987,
          null,
          null,
          null,
          null,
          null,
          null,
          null,
          null,
          null,
          null,
          null,
          null,
          null,
          null,
          null,
          null,
          null,
          0.805192987566411,
          0.6973307237692319,
          0.7316071949667546,
          0.7358203524523433,
          0.719077399259744,
          0.7363460800209531,
          0.8170925441102169,
          null,
          null,
          null,
          null,
          null,
          null,
          null,
          null,
          null,
          null,
          null,
          null,
          null,
          0.8841491157601377,
          0.8248533797570243,
          0.8584510646846423,
          0.8960113418657875,
          0.9307887410350731,
          0.9286599936414921,
          0.9385978768096976,
          0.9251717196048409,
          0.931158293712685,
          0.9694555729947432,
          1.001631717229066,
          0.9803255188138397,
          1.003746321748145,
          1.0838087357232704,
          1.1026470672953503,
          null,
          null,
          null,
          null,
          null,
          null,
          null,
          null,
          null,
          null,
          null,
          null,
          null,
          null,
          null,
          null,
          null,
          null,
          null,
          null,
          null,
          null,
          null,
          null,
          null,
          null,
          null,
          null,
          null,
          null,
          null,
          null,
          null,
          null,
          null,
          null,
          null,
          null,
          null,
          null,
          null,
          null,
          null,
          null,
          null,
          null,
          null,
          null,
          null,
          null,
          null,
          null,
          null,
          null,
          null,
          null,
          null,
          null,
          null,
          null,
          null,
          null,
          null,
          null,
          null
         ],
         "y0": " ",
         "yaxis": "y"
        }
       ],
       "layout": {
        "boxmode": "group",
        "legend": {
         "tracegroupgap": 0
        },
        "margin": {
         "t": 60
        },
        "template": {
         "data": {
          "bar": [
           {
            "error_x": {
             "color": "#2a3f5f"
            },
            "error_y": {
             "color": "#2a3f5f"
            },
            "marker": {
             "line": {
              "color": "#E5ECF6",
              "width": 0.5
             },
             "pattern": {
              "fillmode": "overlay",
              "size": 10,
              "solidity": 0.2
             }
            },
            "type": "bar"
           }
          ],
          "barpolar": [
           {
            "marker": {
             "line": {
              "color": "#E5ECF6",
              "width": 0.5
             },
             "pattern": {
              "fillmode": "overlay",
              "size": 10,
              "solidity": 0.2
             }
            },
            "type": "barpolar"
           }
          ],
          "carpet": [
           {
            "aaxis": {
             "endlinecolor": "#2a3f5f",
             "gridcolor": "white",
             "linecolor": "white",
             "minorgridcolor": "white",
             "startlinecolor": "#2a3f5f"
            },
            "baxis": {
             "endlinecolor": "#2a3f5f",
             "gridcolor": "white",
             "linecolor": "white",
             "minorgridcolor": "white",
             "startlinecolor": "#2a3f5f"
            },
            "type": "carpet"
           }
          ],
          "choropleth": [
           {
            "colorbar": {
             "outlinewidth": 0,
             "ticks": ""
            },
            "type": "choropleth"
           }
          ],
          "contour": [
           {
            "colorbar": {
             "outlinewidth": 0,
             "ticks": ""
            },
            "colorscale": [
             [
              0,
              "#0d0887"
             ],
             [
              0.1111111111111111,
              "#46039f"
             ],
             [
              0.2222222222222222,
              "#7201a8"
             ],
             [
              0.3333333333333333,
              "#9c179e"
             ],
             [
              0.4444444444444444,
              "#bd3786"
             ],
             [
              0.5555555555555556,
              "#d8576b"
             ],
             [
              0.6666666666666666,
              "#ed7953"
             ],
             [
              0.7777777777777778,
              "#fb9f3a"
             ],
             [
              0.8888888888888888,
              "#fdca26"
             ],
             [
              1,
              "#f0f921"
             ]
            ],
            "type": "contour"
           }
          ],
          "contourcarpet": [
           {
            "colorbar": {
             "outlinewidth": 0,
             "ticks": ""
            },
            "type": "contourcarpet"
           }
          ],
          "heatmap": [
           {
            "colorbar": {
             "outlinewidth": 0,
             "ticks": ""
            },
            "colorscale": [
             [
              0,
              "#0d0887"
             ],
             [
              0.1111111111111111,
              "#46039f"
             ],
             [
              0.2222222222222222,
              "#7201a8"
             ],
             [
              0.3333333333333333,
              "#9c179e"
             ],
             [
              0.4444444444444444,
              "#bd3786"
             ],
             [
              0.5555555555555556,
              "#d8576b"
             ],
             [
              0.6666666666666666,
              "#ed7953"
             ],
             [
              0.7777777777777778,
              "#fb9f3a"
             ],
             [
              0.8888888888888888,
              "#fdca26"
             ],
             [
              1,
              "#f0f921"
             ]
            ],
            "type": "heatmap"
           }
          ],
          "heatmapgl": [
           {
            "colorbar": {
             "outlinewidth": 0,
             "ticks": ""
            },
            "colorscale": [
             [
              0,
              "#0d0887"
             ],
             [
              0.1111111111111111,
              "#46039f"
             ],
             [
              0.2222222222222222,
              "#7201a8"
             ],
             [
              0.3333333333333333,
              "#9c179e"
             ],
             [
              0.4444444444444444,
              "#bd3786"
             ],
             [
              0.5555555555555556,
              "#d8576b"
             ],
             [
              0.6666666666666666,
              "#ed7953"
             ],
             [
              0.7777777777777778,
              "#fb9f3a"
             ],
             [
              0.8888888888888888,
              "#fdca26"
             ],
             [
              1,
              "#f0f921"
             ]
            ],
            "type": "heatmapgl"
           }
          ],
          "histogram": [
           {
            "marker": {
             "pattern": {
              "fillmode": "overlay",
              "size": 10,
              "solidity": 0.2
             }
            },
            "type": "histogram"
           }
          ],
          "histogram2d": [
           {
            "colorbar": {
             "outlinewidth": 0,
             "ticks": ""
            },
            "colorscale": [
             [
              0,
              "#0d0887"
             ],
             [
              0.1111111111111111,
              "#46039f"
             ],
             [
              0.2222222222222222,
              "#7201a8"
             ],
             [
              0.3333333333333333,
              "#9c179e"
             ],
             [
              0.4444444444444444,
              "#bd3786"
             ],
             [
              0.5555555555555556,
              "#d8576b"
             ],
             [
              0.6666666666666666,
              "#ed7953"
             ],
             [
              0.7777777777777778,
              "#fb9f3a"
             ],
             [
              0.8888888888888888,
              "#fdca26"
             ],
             [
              1,
              "#f0f921"
             ]
            ],
            "type": "histogram2d"
           }
          ],
          "histogram2dcontour": [
           {
            "colorbar": {
             "outlinewidth": 0,
             "ticks": ""
            },
            "colorscale": [
             [
              0,
              "#0d0887"
             ],
             [
              0.1111111111111111,
              "#46039f"
             ],
             [
              0.2222222222222222,
              "#7201a8"
             ],
             [
              0.3333333333333333,
              "#9c179e"
             ],
             [
              0.4444444444444444,
              "#bd3786"
             ],
             [
              0.5555555555555556,
              "#d8576b"
             ],
             [
              0.6666666666666666,
              "#ed7953"
             ],
             [
              0.7777777777777778,
              "#fb9f3a"
             ],
             [
              0.8888888888888888,
              "#fdca26"
             ],
             [
              1,
              "#f0f921"
             ]
            ],
            "type": "histogram2dcontour"
           }
          ],
          "mesh3d": [
           {
            "colorbar": {
             "outlinewidth": 0,
             "ticks": ""
            },
            "type": "mesh3d"
           }
          ],
          "parcoords": [
           {
            "line": {
             "colorbar": {
              "outlinewidth": 0,
              "ticks": ""
             }
            },
            "type": "parcoords"
           }
          ],
          "pie": [
           {
            "automargin": true,
            "type": "pie"
           }
          ],
          "scatter": [
           {
            "fillpattern": {
             "fillmode": "overlay",
             "size": 10,
             "solidity": 0.2
            },
            "type": "scatter"
           }
          ],
          "scatter3d": [
           {
            "line": {
             "colorbar": {
              "outlinewidth": 0,
              "ticks": ""
             }
            },
            "marker": {
             "colorbar": {
              "outlinewidth": 0,
              "ticks": ""
             }
            },
            "type": "scatter3d"
           }
          ],
          "scattercarpet": [
           {
            "marker": {
             "colorbar": {
              "outlinewidth": 0,
              "ticks": ""
             }
            },
            "type": "scattercarpet"
           }
          ],
          "scattergeo": [
           {
            "marker": {
             "colorbar": {
              "outlinewidth": 0,
              "ticks": ""
             }
            },
            "type": "scattergeo"
           }
          ],
          "scattergl": [
           {
            "marker": {
             "colorbar": {
              "outlinewidth": 0,
              "ticks": ""
             }
            },
            "type": "scattergl"
           }
          ],
          "scattermapbox": [
           {
            "marker": {
             "colorbar": {
              "outlinewidth": 0,
              "ticks": ""
             }
            },
            "type": "scattermapbox"
           }
          ],
          "scatterpolar": [
           {
            "marker": {
             "colorbar": {
              "outlinewidth": 0,
              "ticks": ""
             }
            },
            "type": "scatterpolar"
           }
          ],
          "scatterpolargl": [
           {
            "marker": {
             "colorbar": {
              "outlinewidth": 0,
              "ticks": ""
             }
            },
            "type": "scatterpolargl"
           }
          ],
          "scatterternary": [
           {
            "marker": {
             "colorbar": {
              "outlinewidth": 0,
              "ticks": ""
             }
            },
            "type": "scatterternary"
           }
          ],
          "surface": [
           {
            "colorbar": {
             "outlinewidth": 0,
             "ticks": ""
            },
            "colorscale": [
             [
              0,
              "#0d0887"
             ],
             [
              0.1111111111111111,
              "#46039f"
             ],
             [
              0.2222222222222222,
              "#7201a8"
             ],
             [
              0.3333333333333333,
              "#9c179e"
             ],
             [
              0.4444444444444444,
              "#bd3786"
             ],
             [
              0.5555555555555556,
              "#d8576b"
             ],
             [
              0.6666666666666666,
              "#ed7953"
             ],
             [
              0.7777777777777778,
              "#fb9f3a"
             ],
             [
              0.8888888888888888,
              "#fdca26"
             ],
             [
              1,
              "#f0f921"
             ]
            ],
            "type": "surface"
           }
          ],
          "table": [
           {
            "cells": {
             "fill": {
              "color": "#EBF0F8"
             },
             "line": {
              "color": "white"
             }
            },
            "header": {
             "fill": {
              "color": "#C8D4E3"
             },
             "line": {
              "color": "white"
             }
            },
            "type": "table"
           }
          ]
         },
         "layout": {
          "annotationdefaults": {
           "arrowcolor": "#2a3f5f",
           "arrowhead": 0,
           "arrowwidth": 1
          },
          "autotypenumbers": "strict",
          "coloraxis": {
           "colorbar": {
            "outlinewidth": 0,
            "ticks": ""
           }
          },
          "colorscale": {
           "diverging": [
            [
             0,
             "#8e0152"
            ],
            [
             0.1,
             "#c51b7d"
            ],
            [
             0.2,
             "#de77ae"
            ],
            [
             0.3,
             "#f1b6da"
            ],
            [
             0.4,
             "#fde0ef"
            ],
            [
             0.5,
             "#f7f7f7"
            ],
            [
             0.6,
             "#e6f5d0"
            ],
            [
             0.7,
             "#b8e186"
            ],
            [
             0.8,
             "#7fbc41"
            ],
            [
             0.9,
             "#4d9221"
            ],
            [
             1,
             "#276419"
            ]
           ],
           "sequential": [
            [
             0,
             "#0d0887"
            ],
            [
             0.1111111111111111,
             "#46039f"
            ],
            [
             0.2222222222222222,
             "#7201a8"
            ],
            [
             0.3333333333333333,
             "#9c179e"
            ],
            [
             0.4444444444444444,
             "#bd3786"
            ],
            [
             0.5555555555555556,
             "#d8576b"
            ],
            [
             0.6666666666666666,
             "#ed7953"
            ],
            [
             0.7777777777777778,
             "#fb9f3a"
            ],
            [
             0.8888888888888888,
             "#fdca26"
            ],
            [
             1,
             "#f0f921"
            ]
           ],
           "sequentialminus": [
            [
             0,
             "#0d0887"
            ],
            [
             0.1111111111111111,
             "#46039f"
            ],
            [
             0.2222222222222222,
             "#7201a8"
            ],
            [
             0.3333333333333333,
             "#9c179e"
            ],
            [
             0.4444444444444444,
             "#bd3786"
            ],
            [
             0.5555555555555556,
             "#d8576b"
            ],
            [
             0.6666666666666666,
             "#ed7953"
            ],
            [
             0.7777777777777778,
             "#fb9f3a"
            ],
            [
             0.8888888888888888,
             "#fdca26"
            ],
            [
             1,
             "#f0f921"
            ]
           ]
          },
          "colorway": [
           "#636efa",
           "#EF553B",
           "#00cc96",
           "#ab63fa",
           "#FFA15A",
           "#19d3f3",
           "#FF6692",
           "#B6E880",
           "#FF97FF",
           "#FECB52"
          ],
          "font": {
           "color": "#2a3f5f"
          },
          "geo": {
           "bgcolor": "white",
           "lakecolor": "white",
           "landcolor": "#E5ECF6",
           "showlakes": true,
           "showland": true,
           "subunitcolor": "white"
          },
          "hoverlabel": {
           "align": "left"
          },
          "hovermode": "closest",
          "mapbox": {
           "style": "light"
          },
          "paper_bgcolor": "white",
          "plot_bgcolor": "#E5ECF6",
          "polar": {
           "angularaxis": {
            "gridcolor": "white",
            "linecolor": "white",
            "ticks": ""
           },
           "bgcolor": "#E5ECF6",
           "radialaxis": {
            "gridcolor": "white",
            "linecolor": "white",
            "ticks": ""
           }
          },
          "scene": {
           "xaxis": {
            "backgroundcolor": "#E5ECF6",
            "gridcolor": "white",
            "gridwidth": 2,
            "linecolor": "white",
            "showbackground": true,
            "ticks": "",
            "zerolinecolor": "white"
           },
           "yaxis": {
            "backgroundcolor": "#E5ECF6",
            "gridcolor": "white",
            "gridwidth": 2,
            "linecolor": "white",
            "showbackground": true,
            "ticks": "",
            "zerolinecolor": "white"
           },
           "zaxis": {
            "backgroundcolor": "#E5ECF6",
            "gridcolor": "white",
            "gridwidth": 2,
            "linecolor": "white",
            "showbackground": true,
            "ticks": "",
            "zerolinecolor": "white"
           }
          },
          "shapedefaults": {
           "line": {
            "color": "#2a3f5f"
           }
          },
          "ternary": {
           "aaxis": {
            "gridcolor": "white",
            "linecolor": "white",
            "ticks": ""
           },
           "baxis": {
            "gridcolor": "white",
            "linecolor": "white",
            "ticks": ""
           },
           "bgcolor": "#E5ECF6",
           "caxis": {
            "gridcolor": "white",
            "linecolor": "white",
            "ticks": ""
           }
          },
          "title": {
           "x": 0.05
          },
          "xaxis": {
           "automargin": true,
           "gridcolor": "white",
           "linecolor": "white",
           "ticks": "",
           "title": {
            "standoff": 15
           },
           "zerolinecolor": "white",
           "zerolinewidth": 2
          },
          "yaxis": {
           "automargin": true,
           "gridcolor": "white",
           "linecolor": "white",
           "ticks": "",
           "title": {
            "standoff": 15
           },
           "zerolinecolor": "white",
           "zerolinewidth": 2
          }
         }
        },
        "xaxis": {
         "anchor": "y",
         "domain": [
          0,
          1
         ],
         "title": {
          "text": "variable"
         }
        },
        "yaxis": {
         "anchor": "x",
         "domain": [
          0,
          1
         ],
         "title": {
          "text": "value"
         }
        }
       }
      },
      "text/html": [
       "<div>                            <div id=\"10212ca2-8eb8-4f19-9b89-0668b4f48e40\" class=\"plotly-graph-div\" style=\"height:525px; width:100%;\"></div>            <script type=\"text/javascript\">                require([\"plotly\"], function(Plotly) {                    window.PLOTLYENV=window.PLOTLYENV || {};                                    if (document.getElementById(\"10212ca2-8eb8-4f19-9b89-0668b4f48e40\")) {                    Plotly.newPlot(                        \"10212ca2-8eb8-4f19-9b89-0668b4f48e40\",                        [{\"alignmentgroup\":\"True\",\"hovertemplate\":\"variable=%{x}<br>value=%{y}<extra></extra>\",\"legendgroup\":\"\",\"marker\":{\"color\":\"#636efa\"},\"name\":\"\",\"notched\":false,\"offsetgroup\":\"\",\"orientation\":\"v\",\"showlegend\":false,\"x\":[\"lr:0.01,lamda:0.01\",\"lr:0.01,lamda:0.01\",\"lr:0.01,lamda:0.01\",\"lr:0.01,lamda:0.01\",\"lr:0.01,lamda:0.01\",\"lr:0.01,lamda:0.01\",\"lr:0.01,lamda:0.01\",\"lr:0.01,lamda:0.01\",\"lr:0.01,lamda:0.01\",\"lr:0.01,lamda:0.01\",\"lr:0.01,lamda:0.01\",\"lr:0.01,lamda:0.01\",\"lr:0.01,lamda:0.01\",\"lr:0.01,lamda:0.01\",\"lr:0.01,lamda:0.01\",\"lr:0.01,lamda:0.01\",\"lr:0.01,lamda:0.01\",\"lr:0.01,lamda:0.01\",\"lr:0.01,lamda:0.01\",\"lr:0.01,lamda:0.01\",\"lr:0.01,lamda:0.03\",\"lr:0.01,lamda:0.03\",\"lr:0.01,lamda:0.03\",\"lr:0.01,lamda:0.03\",\"lr:0.01,lamda:0.03\",\"lr:0.01,lamda:0.03\",\"lr:0.01,lamda:0.03\",\"lr:0.01,lamda:0.03\",\"lr:0.01,lamda:0.03\",\"lr:0.01,lamda:0.03\",\"lr:0.01,lamda:0.03\",\"lr:0.01,lamda:0.03\",\"lr:0.01,lamda:0.03\",\"lr:0.01,lamda:0.03\",\"lr:0.01,lamda:0.03\",\"lr:0.01,lamda:0.03\",\"lr:0.01,lamda:0.03\",\"lr:0.01,lamda:0.03\",\"lr:0.01,lamda:0.03\",\"lr:0.01,lamda:0.03\",\"lr:0.01,lamda:0.05\",\"lr:0.01,lamda:0.05\",\"lr:0.01,lamda:0.05\",\"lr:0.01,lamda:0.05\",\"lr:0.01,lamda:0.05\",\"lr:0.01,lamda:0.05\",\"lr:0.01,lamda:0.05\",\"lr:0.01,lamda:0.05\",\"lr:0.01,lamda:0.05\",\"lr:0.01,lamda:0.05\",\"lr:0.01,lamda:0.05\",\"lr:0.01,lamda:0.05\",\"lr:0.01,lamda:0.05\",\"lr:0.01,lamda:0.05\",\"lr:0.01,lamda:0.05\",\"lr:0.01,lamda:0.05\",\"lr:0.01,lamda:0.05\",\"lr:0.01,lamda:0.05\",\"lr:0.01,lamda:0.05\",\"lr:0.01,lamda:0.05\",\"lr:0.05,lamda:0.01\",\"lr:0.05,lamda:0.01\",\"lr:0.05,lamda:0.01\",\"lr:0.05,lamda:0.01\",\"lr:0.05,lamda:0.01\",\"lr:0.05,lamda:0.01\",\"lr:0.05,lamda:0.01\",\"lr:0.05,lamda:0.01\",\"lr:0.05,lamda:0.01\",\"lr:0.05,lamda:0.01\",\"lr:0.05,lamda:0.01\",\"lr:0.05,lamda:0.01\",\"lr:0.05,lamda:0.01\",\"lr:0.05,lamda:0.01\",\"lr:0.05,lamda:0.01\",\"lr:0.05,lamda:0.01\",\"lr:0.05,lamda:0.01\",\"lr:0.05,lamda:0.01\",\"lr:0.05,lamda:0.01\",\"lr:0.05,lamda:0.01\",\"lr:0.05,lamda:0.03\",\"lr:0.05,lamda:0.03\",\"lr:0.05,lamda:0.03\",\"lr:0.05,lamda:0.03\",\"lr:0.05,lamda:0.03\",\"lr:0.05,lamda:0.03\",\"lr:0.05,lamda:0.03\",\"lr:0.05,lamda:0.03\",\"lr:0.05,lamda:0.03\",\"lr:0.05,lamda:0.03\",\"lr:0.05,lamda:0.03\",\"lr:0.05,lamda:0.03\",\"lr:0.05,lamda:0.03\",\"lr:0.05,lamda:0.03\",\"lr:0.05,lamda:0.03\",\"lr:0.05,lamda:0.03\",\"lr:0.05,lamda:0.03\",\"lr:0.05,lamda:0.03\",\"lr:0.05,lamda:0.03\",\"lr:0.05,lamda:0.03\",\"lr:0.05,lamda:0.05\",\"lr:0.05,lamda:0.05\",\"lr:0.05,lamda:0.05\",\"lr:0.05,lamda:0.05\",\"lr:0.05,lamda:0.05\",\"lr:0.05,lamda:0.05\",\"lr:0.05,lamda:0.05\",\"lr:0.05,lamda:0.05\",\"lr:0.05,lamda:0.05\",\"lr:0.05,lamda:0.05\",\"lr:0.05,lamda:0.05\",\"lr:0.05,lamda:0.05\",\"lr:0.05,lamda:0.05\",\"lr:0.05,lamda:0.05\",\"lr:0.05,lamda:0.05\",\"lr:0.05,lamda:0.05\",\"lr:0.05,lamda:0.05\",\"lr:0.05,lamda:0.05\",\"lr:0.05,lamda:0.05\",\"lr:0.05,lamda:0.05\",\"lr:0.1,lamda:0.01\",\"lr:0.1,lamda:0.01\",\"lr:0.1,lamda:0.01\",\"lr:0.1,lamda:0.01\",\"lr:0.1,lamda:0.01\",\"lr:0.1,lamda:0.01\",\"lr:0.1,lamda:0.01\",\"lr:0.1,lamda:0.01\",\"lr:0.1,lamda:0.01\",\"lr:0.1,lamda:0.01\",\"lr:0.1,lamda:0.01\",\"lr:0.1,lamda:0.01\",\"lr:0.1,lamda:0.01\",\"lr:0.1,lamda:0.01\",\"lr:0.1,lamda:0.01\",\"lr:0.1,lamda:0.01\",\"lr:0.1,lamda:0.01\",\"lr:0.1,lamda:0.01\",\"lr:0.1,lamda:0.01\",\"lr:0.1,lamda:0.01\",\"lr:0.1,lamda:0.03\",\"lr:0.1,lamda:0.03\",\"lr:0.1,lamda:0.03\",\"lr:0.1,lamda:0.03\",\"lr:0.1,lamda:0.03\",\"lr:0.1,lamda:0.03\",\"lr:0.1,lamda:0.03\",\"lr:0.1,lamda:0.03\",\"lr:0.1,lamda:0.03\",\"lr:0.1,lamda:0.03\",\"lr:0.1,lamda:0.03\",\"lr:0.1,lamda:0.03\",\"lr:0.1,lamda:0.03\",\"lr:0.1,lamda:0.03\",\"lr:0.1,lamda:0.03\",\"lr:0.1,lamda:0.03\",\"lr:0.1,lamda:0.03\",\"lr:0.1,lamda:0.03\",\"lr:0.1,lamda:0.03\",\"lr:0.1,lamda:0.03\",\"lr:0.1,lamda:0.05\",\"lr:0.1,lamda:0.05\",\"lr:0.1,lamda:0.05\",\"lr:0.1,lamda:0.05\",\"lr:0.1,lamda:0.05\",\"lr:0.1,lamda:0.05\",\"lr:0.1,lamda:0.05\",\"lr:0.1,lamda:0.05\",\"lr:0.1,lamda:0.05\",\"lr:0.1,lamda:0.05\",\"lr:0.1,lamda:0.05\",\"lr:0.1,lamda:0.05\",\"lr:0.1,lamda:0.05\",\"lr:0.1,lamda:0.05\",\"lr:0.1,lamda:0.05\",\"lr:0.1,lamda:0.05\",\"lr:0.1,lamda:0.05\",\"lr:0.1,lamda:0.05\",\"lr:0.1,lamda:0.05\",\"lr:0.1,lamda:0.05\"],\"x0\":\" \",\"xaxis\":\"x\",\"y\":[0.8500358391508605,0.5992236914336498,0.5494605174649189,0.5263895541619746,0.511443802103761,0.5033956750089114,0.49735888004330336,0.49073760057814714,0.4854940458437383,0.4829205493189114,0.479485373304306,0.4782191784821055,0.47635621279485313,0.4752225080294896,0.47350723379955134,0.47485911711779943,0.4738236422268211,0.4734415320144537,0.47289092224793183,0.4744063776160254,0.94431124801422,0.7021874564762773,0.6571814375680463,0.6418908865602722,0.6388152988400086,0.6384056458780705,0.6402519709206416,0.6413355237019489,0.6428127990962865,0.6426462752394655,0.6432023139695734,0.6436988657019471,0.6425271338213501,0.6425396448488748,0.6426709806603309,0.6433281269381824,0.646165145938405,0.6465947702297105,0.6453285193202485,0.6499971368582106,0.9974431469442153,0.7733859794005122,0.7608928331141123,0.7609079888398451,0.7666084088965647,0.7700012513009519,0.7756055379888809,0.7789919197367715,0.782224789695945,0.7851512110322578,0.7859357859293746,0.7808348929732326,0.7758442349007284,0.7729686007426083,0.7761178693996027,0.7799603887363777,0.7910659279328272,0.8059794807145212,0.8248814127469349,0.8389029441438771,0.7235109649406031,0.584469155410754,0.591152663638987,null,null,null,null,null,null,null,null,null,null,null,null,null,null,null,null,null,0.805192987566411,0.6973307237692319,0.7316071949667546,0.7358203524523433,0.719077399259744,0.7363460800209531,0.8170925441102169,null,null,null,null,null,null,null,null,null,null,null,null,null,0.8841491157601377,0.8248533797570243,0.8584510646846423,0.8960113418657875,0.9307887410350731,0.9286599936414921,0.9385978768096976,0.9251717196048409,0.931158293712685,0.9694555729947432,1.001631717229066,0.9803255188138397,1.003746321748145,1.0838087357232704,1.1026470672953503,null,null,null,null,null,null,null,null,null,null,null,null,null,null,null,null,null,null,null,null,null,null,null,null,null,null,null,null,null,null,null,null,null,null,null,null,null,null,null,null,null,null,null,null,null,null,null,null,null,null,null,null,null,null,null,null,null,null,null,null,null,null,null,null,null],\"y0\":\" \",\"yaxis\":\"y\",\"type\":\"box\"}],                        {\"template\":{\"data\":{\"histogram2dcontour\":[{\"type\":\"histogram2dcontour\",\"colorbar\":{\"outlinewidth\":0,\"ticks\":\"\"},\"colorscale\":[[0.0,\"#0d0887\"],[0.1111111111111111,\"#46039f\"],[0.2222222222222222,\"#7201a8\"],[0.3333333333333333,\"#9c179e\"],[0.4444444444444444,\"#bd3786\"],[0.5555555555555556,\"#d8576b\"],[0.6666666666666666,\"#ed7953\"],[0.7777777777777778,\"#fb9f3a\"],[0.8888888888888888,\"#fdca26\"],[1.0,\"#f0f921\"]]}],\"choropleth\":[{\"type\":\"choropleth\",\"colorbar\":{\"outlinewidth\":0,\"ticks\":\"\"}}],\"histogram2d\":[{\"type\":\"histogram2d\",\"colorbar\":{\"outlinewidth\":0,\"ticks\":\"\"},\"colorscale\":[[0.0,\"#0d0887\"],[0.1111111111111111,\"#46039f\"],[0.2222222222222222,\"#7201a8\"],[0.3333333333333333,\"#9c179e\"],[0.4444444444444444,\"#bd3786\"],[0.5555555555555556,\"#d8576b\"],[0.6666666666666666,\"#ed7953\"],[0.7777777777777778,\"#fb9f3a\"],[0.8888888888888888,\"#fdca26\"],[1.0,\"#f0f921\"]]}],\"heatmap\":[{\"type\":\"heatmap\",\"colorbar\":{\"outlinewidth\":0,\"ticks\":\"\"},\"colorscale\":[[0.0,\"#0d0887\"],[0.1111111111111111,\"#46039f\"],[0.2222222222222222,\"#7201a8\"],[0.3333333333333333,\"#9c179e\"],[0.4444444444444444,\"#bd3786\"],[0.5555555555555556,\"#d8576b\"],[0.6666666666666666,\"#ed7953\"],[0.7777777777777778,\"#fb9f3a\"],[0.8888888888888888,\"#fdca26\"],[1.0,\"#f0f921\"]]}],\"heatmapgl\":[{\"type\":\"heatmapgl\",\"colorbar\":{\"outlinewidth\":0,\"ticks\":\"\"},\"colorscale\":[[0.0,\"#0d0887\"],[0.1111111111111111,\"#46039f\"],[0.2222222222222222,\"#7201a8\"],[0.3333333333333333,\"#9c179e\"],[0.4444444444444444,\"#bd3786\"],[0.5555555555555556,\"#d8576b\"],[0.6666666666666666,\"#ed7953\"],[0.7777777777777778,\"#fb9f3a\"],[0.8888888888888888,\"#fdca26\"],[1.0,\"#f0f921\"]]}],\"contourcarpet\":[{\"type\":\"contourcarpet\",\"colorbar\":{\"outlinewidth\":0,\"ticks\":\"\"}}],\"contour\":[{\"type\":\"contour\",\"colorbar\":{\"outlinewidth\":0,\"ticks\":\"\"},\"colorscale\":[[0.0,\"#0d0887\"],[0.1111111111111111,\"#46039f\"],[0.2222222222222222,\"#7201a8\"],[0.3333333333333333,\"#9c179e\"],[0.4444444444444444,\"#bd3786\"],[0.5555555555555556,\"#d8576b\"],[0.6666666666666666,\"#ed7953\"],[0.7777777777777778,\"#fb9f3a\"],[0.8888888888888888,\"#fdca26\"],[1.0,\"#f0f921\"]]}],\"surface\":[{\"type\":\"surface\",\"colorbar\":{\"outlinewidth\":0,\"ticks\":\"\"},\"colorscale\":[[0.0,\"#0d0887\"],[0.1111111111111111,\"#46039f\"],[0.2222222222222222,\"#7201a8\"],[0.3333333333333333,\"#9c179e\"],[0.4444444444444444,\"#bd3786\"],[0.5555555555555556,\"#d8576b\"],[0.6666666666666666,\"#ed7953\"],[0.7777777777777778,\"#fb9f3a\"],[0.8888888888888888,\"#fdca26\"],[1.0,\"#f0f921\"]]}],\"mesh3d\":[{\"type\":\"mesh3d\",\"colorbar\":{\"outlinewidth\":0,\"ticks\":\"\"}}],\"scatter\":[{\"fillpattern\":{\"fillmode\":\"overlay\",\"size\":10,\"solidity\":0.2},\"type\":\"scatter\"}],\"parcoords\":[{\"type\":\"parcoords\",\"line\":{\"colorbar\":{\"outlinewidth\":0,\"ticks\":\"\"}}}],\"scatterpolargl\":[{\"type\":\"scatterpolargl\",\"marker\":{\"colorbar\":{\"outlinewidth\":0,\"ticks\":\"\"}}}],\"bar\":[{\"error_x\":{\"color\":\"#2a3f5f\"},\"error_y\":{\"color\":\"#2a3f5f\"},\"marker\":{\"line\":{\"color\":\"#E5ECF6\",\"width\":0.5},\"pattern\":{\"fillmode\":\"overlay\",\"size\":10,\"solidity\":0.2}},\"type\":\"bar\"}],\"scattergeo\":[{\"type\":\"scattergeo\",\"marker\":{\"colorbar\":{\"outlinewidth\":0,\"ticks\":\"\"}}}],\"scatterpolar\":[{\"type\":\"scatterpolar\",\"marker\":{\"colorbar\":{\"outlinewidth\":0,\"ticks\":\"\"}}}],\"histogram\":[{\"marker\":{\"pattern\":{\"fillmode\":\"overlay\",\"size\":10,\"solidity\":0.2}},\"type\":\"histogram\"}],\"scattergl\":[{\"type\":\"scattergl\",\"marker\":{\"colorbar\":{\"outlinewidth\":0,\"ticks\":\"\"}}}],\"scatter3d\":[{\"type\":\"scatter3d\",\"line\":{\"colorbar\":{\"outlinewidth\":0,\"ticks\":\"\"}},\"marker\":{\"colorbar\":{\"outlinewidth\":0,\"ticks\":\"\"}}}],\"scattermapbox\":[{\"type\":\"scattermapbox\",\"marker\":{\"colorbar\":{\"outlinewidth\":0,\"ticks\":\"\"}}}],\"scatterternary\":[{\"type\":\"scatterternary\",\"marker\":{\"colorbar\":{\"outlinewidth\":0,\"ticks\":\"\"}}}],\"scattercarpet\":[{\"type\":\"scattercarpet\",\"marker\":{\"colorbar\":{\"outlinewidth\":0,\"ticks\":\"\"}}}],\"carpet\":[{\"aaxis\":{\"endlinecolor\":\"#2a3f5f\",\"gridcolor\":\"white\",\"linecolor\":\"white\",\"minorgridcolor\":\"white\",\"startlinecolor\":\"#2a3f5f\"},\"baxis\":{\"endlinecolor\":\"#2a3f5f\",\"gridcolor\":\"white\",\"linecolor\":\"white\",\"minorgridcolor\":\"white\",\"startlinecolor\":\"#2a3f5f\"},\"type\":\"carpet\"}],\"table\":[{\"cells\":{\"fill\":{\"color\":\"#EBF0F8\"},\"line\":{\"color\":\"white\"}},\"header\":{\"fill\":{\"color\":\"#C8D4E3\"},\"line\":{\"color\":\"white\"}},\"type\":\"table\"}],\"barpolar\":[{\"marker\":{\"line\":{\"color\":\"#E5ECF6\",\"width\":0.5},\"pattern\":{\"fillmode\":\"overlay\",\"size\":10,\"solidity\":0.2}},\"type\":\"barpolar\"}],\"pie\":[{\"automargin\":true,\"type\":\"pie\"}]},\"layout\":{\"autotypenumbers\":\"strict\",\"colorway\":[\"#636efa\",\"#EF553B\",\"#00cc96\",\"#ab63fa\",\"#FFA15A\",\"#19d3f3\",\"#FF6692\",\"#B6E880\",\"#FF97FF\",\"#FECB52\"],\"font\":{\"color\":\"#2a3f5f\"},\"hovermode\":\"closest\",\"hoverlabel\":{\"align\":\"left\"},\"paper_bgcolor\":\"white\",\"plot_bgcolor\":\"#E5ECF6\",\"polar\":{\"bgcolor\":\"#E5ECF6\",\"angularaxis\":{\"gridcolor\":\"white\",\"linecolor\":\"white\",\"ticks\":\"\"},\"radialaxis\":{\"gridcolor\":\"white\",\"linecolor\":\"white\",\"ticks\":\"\"}},\"ternary\":{\"bgcolor\":\"#E5ECF6\",\"aaxis\":{\"gridcolor\":\"white\",\"linecolor\":\"white\",\"ticks\":\"\"},\"baxis\":{\"gridcolor\":\"white\",\"linecolor\":\"white\",\"ticks\":\"\"},\"caxis\":{\"gridcolor\":\"white\",\"linecolor\":\"white\",\"ticks\":\"\"}},\"coloraxis\":{\"colorbar\":{\"outlinewidth\":0,\"ticks\":\"\"}},\"colorscale\":{\"sequential\":[[0.0,\"#0d0887\"],[0.1111111111111111,\"#46039f\"],[0.2222222222222222,\"#7201a8\"],[0.3333333333333333,\"#9c179e\"],[0.4444444444444444,\"#bd3786\"],[0.5555555555555556,\"#d8576b\"],[0.6666666666666666,\"#ed7953\"],[0.7777777777777778,\"#fb9f3a\"],[0.8888888888888888,\"#fdca26\"],[1.0,\"#f0f921\"]],\"sequentialminus\":[[0.0,\"#0d0887\"],[0.1111111111111111,\"#46039f\"],[0.2222222222222222,\"#7201a8\"],[0.3333333333333333,\"#9c179e\"],[0.4444444444444444,\"#bd3786\"],[0.5555555555555556,\"#d8576b\"],[0.6666666666666666,\"#ed7953\"],[0.7777777777777778,\"#fb9f3a\"],[0.8888888888888888,\"#fdca26\"],[1.0,\"#f0f921\"]],\"diverging\":[[0,\"#8e0152\"],[0.1,\"#c51b7d\"],[0.2,\"#de77ae\"],[0.3,\"#f1b6da\"],[0.4,\"#fde0ef\"],[0.5,\"#f7f7f7\"],[0.6,\"#e6f5d0\"],[0.7,\"#b8e186\"],[0.8,\"#7fbc41\"],[0.9,\"#4d9221\"],[1,\"#276419\"]]},\"xaxis\":{\"gridcolor\":\"white\",\"linecolor\":\"white\",\"ticks\":\"\",\"title\":{\"standoff\":15},\"zerolinecolor\":\"white\",\"automargin\":true,\"zerolinewidth\":2},\"yaxis\":{\"gridcolor\":\"white\",\"linecolor\":\"white\",\"ticks\":\"\",\"title\":{\"standoff\":15},\"zerolinecolor\":\"white\",\"automargin\":true,\"zerolinewidth\":2},\"scene\":{\"xaxis\":{\"backgroundcolor\":\"#E5ECF6\",\"gridcolor\":\"white\",\"linecolor\":\"white\",\"showbackground\":true,\"ticks\":\"\",\"zerolinecolor\":\"white\",\"gridwidth\":2},\"yaxis\":{\"backgroundcolor\":\"#E5ECF6\",\"gridcolor\":\"white\",\"linecolor\":\"white\",\"showbackground\":true,\"ticks\":\"\",\"zerolinecolor\":\"white\",\"gridwidth\":2},\"zaxis\":{\"backgroundcolor\":\"#E5ECF6\",\"gridcolor\":\"white\",\"linecolor\":\"white\",\"showbackground\":true,\"ticks\":\"\",\"zerolinecolor\":\"white\",\"gridwidth\":2}},\"shapedefaults\":{\"line\":{\"color\":\"#2a3f5f\"}},\"annotationdefaults\":{\"arrowcolor\":\"#2a3f5f\",\"arrowhead\":0,\"arrowwidth\":1},\"geo\":{\"bgcolor\":\"white\",\"landcolor\":\"#E5ECF6\",\"subunitcolor\":\"white\",\"showland\":true,\"showlakes\":true,\"lakecolor\":\"white\"},\"title\":{\"x\":0.05},\"mapbox\":{\"style\":\"light\"}}},\"xaxis\":{\"anchor\":\"y\",\"domain\":[0.0,1.0],\"title\":{\"text\":\"variable\"}},\"yaxis\":{\"anchor\":\"x\",\"domain\":[0.0,1.0],\"title\":{\"text\":\"value\"}},\"legend\":{\"tracegroupgap\":0},\"margin\":{\"t\":60},\"boxmode\":\"group\"},                        {\"responsive\": true}                    ).then(function(){\n",
       "                            \n",
       "var gd = document.getElementById('10212ca2-8eb8-4f19-9b89-0668b4f48e40');\n",
       "var x = new MutationObserver(function (mutations, observer) {{\n",
       "        var display = window.getComputedStyle(gd).display;\n",
       "        if (!display || display === 'none') {{\n",
       "            console.log([gd, 'removed!']);\n",
       "            Plotly.purge(gd);\n",
       "            observer.disconnect();\n",
       "        }}\n",
       "}});\n",
       "\n",
       "// Listen for the removal of the full notebook cells\n",
       "var notebookContainer = gd.closest('#notebook-container');\n",
       "if (notebookContainer) {{\n",
       "    x.observe(notebookContainer, {childList: true});\n",
       "}}\n",
       "\n",
       "// Listen for the clearing of the current output cell\n",
       "var outputEl = gd.closest('.output');\n",
       "if (outputEl) {{\n",
       "    x.observe(outputEl, {childList: true});\n",
       "}}\n",
       "\n",
       "                        })                };                });            </script>        </div>"
      ]
     },
     "metadata": {},
     "output_type": "display_data"
    }
   ],
   "source": [
    "px.box(pd.DataFrame(train_collect))"
   ]
  },
  {
   "cell_type": "code",
   "execution_count": 47,
   "metadata": {},
   "outputs": [
    {
     "data": {
      "application/vnd.plotly.v1+json": {
       "config": {
        "plotlyServerURL": "https://plot.ly"
       },
       "data": [
        {
         "alignmentgroup": "True",
         "hovertemplate": "variable=%{x}<br>value=%{y}<extra></extra>",
         "legendgroup": "",
         "marker": {
          "color": "#636efa"
         },
         "name": "",
         "notched": false,
         "offsetgroup": "",
         "orientation": "v",
         "showlegend": false,
         "type": "box",
         "x": [
          "lr:0.01,lamda:0.01",
          "lr:0.01,lamda:0.01",
          "lr:0.01,lamda:0.01",
          "lr:0.01,lamda:0.01",
          "lr:0.01,lamda:0.01",
          "lr:0.01,lamda:0.01",
          "lr:0.01,lamda:0.01",
          "lr:0.01,lamda:0.01",
          "lr:0.01,lamda:0.01",
          "lr:0.01,lamda:0.01",
          "lr:0.01,lamda:0.01",
          "lr:0.01,lamda:0.01",
          "lr:0.01,lamda:0.01",
          "lr:0.01,lamda:0.01",
          "lr:0.01,lamda:0.01",
          "lr:0.01,lamda:0.01",
          "lr:0.01,lamda:0.01",
          "lr:0.01,lamda:0.01",
          "lr:0.01,lamda:0.01",
          "lr:0.01,lamda:0.01",
          "lr:0.01,lamda:0.03",
          "lr:0.01,lamda:0.03",
          "lr:0.01,lamda:0.03",
          "lr:0.01,lamda:0.03",
          "lr:0.01,lamda:0.03",
          "lr:0.01,lamda:0.03",
          "lr:0.01,lamda:0.03",
          "lr:0.01,lamda:0.03",
          "lr:0.01,lamda:0.03",
          "lr:0.01,lamda:0.03",
          "lr:0.01,lamda:0.03",
          "lr:0.01,lamda:0.03",
          "lr:0.01,lamda:0.03",
          "lr:0.01,lamda:0.03",
          "lr:0.01,lamda:0.03",
          "lr:0.01,lamda:0.03",
          "lr:0.01,lamda:0.03",
          "lr:0.01,lamda:0.03",
          "lr:0.01,lamda:0.03",
          "lr:0.01,lamda:0.03",
          "lr:0.01,lamda:0.05",
          "lr:0.01,lamda:0.05",
          "lr:0.01,lamda:0.05",
          "lr:0.01,lamda:0.05",
          "lr:0.01,lamda:0.05",
          "lr:0.01,lamda:0.05",
          "lr:0.01,lamda:0.05",
          "lr:0.01,lamda:0.05",
          "lr:0.01,lamda:0.05",
          "lr:0.01,lamda:0.05",
          "lr:0.01,lamda:0.05",
          "lr:0.01,lamda:0.05",
          "lr:0.01,lamda:0.05",
          "lr:0.01,lamda:0.05",
          "lr:0.01,lamda:0.05",
          "lr:0.01,lamda:0.05",
          "lr:0.01,lamda:0.05",
          "lr:0.01,lamda:0.05",
          "lr:0.01,lamda:0.05",
          "lr:0.01,lamda:0.05",
          "lr:0.05,lamda:0.01",
          "lr:0.05,lamda:0.01",
          "lr:0.05,lamda:0.01",
          "lr:0.05,lamda:0.01",
          "lr:0.05,lamda:0.01",
          "lr:0.05,lamda:0.01",
          "lr:0.05,lamda:0.01",
          "lr:0.05,lamda:0.01",
          "lr:0.05,lamda:0.01",
          "lr:0.05,lamda:0.01",
          "lr:0.05,lamda:0.01",
          "lr:0.05,lamda:0.01",
          "lr:0.05,lamda:0.01",
          "lr:0.05,lamda:0.01",
          "lr:0.05,lamda:0.01",
          "lr:0.05,lamda:0.01",
          "lr:0.05,lamda:0.01",
          "lr:0.05,lamda:0.01",
          "lr:0.05,lamda:0.01",
          "lr:0.05,lamda:0.01",
          "lr:0.05,lamda:0.03",
          "lr:0.05,lamda:0.03",
          "lr:0.05,lamda:0.03",
          "lr:0.05,lamda:0.03",
          "lr:0.05,lamda:0.03",
          "lr:0.05,lamda:0.03",
          "lr:0.05,lamda:0.03",
          "lr:0.05,lamda:0.03",
          "lr:0.05,lamda:0.03",
          "lr:0.05,lamda:0.03",
          "lr:0.05,lamda:0.03",
          "lr:0.05,lamda:0.03",
          "lr:0.05,lamda:0.03",
          "lr:0.05,lamda:0.03",
          "lr:0.05,lamda:0.03",
          "lr:0.05,lamda:0.03",
          "lr:0.05,lamda:0.03",
          "lr:0.05,lamda:0.03",
          "lr:0.05,lamda:0.03",
          "lr:0.05,lamda:0.03",
          "lr:0.05,lamda:0.05",
          "lr:0.05,lamda:0.05",
          "lr:0.05,lamda:0.05",
          "lr:0.05,lamda:0.05",
          "lr:0.05,lamda:0.05",
          "lr:0.05,lamda:0.05",
          "lr:0.05,lamda:0.05",
          "lr:0.05,lamda:0.05",
          "lr:0.05,lamda:0.05",
          "lr:0.05,lamda:0.05",
          "lr:0.05,lamda:0.05",
          "lr:0.05,lamda:0.05",
          "lr:0.05,lamda:0.05",
          "lr:0.05,lamda:0.05",
          "lr:0.05,lamda:0.05",
          "lr:0.05,lamda:0.05",
          "lr:0.05,lamda:0.05",
          "lr:0.05,lamda:0.05",
          "lr:0.05,lamda:0.05",
          "lr:0.05,lamda:0.05",
          "lr:0.1,lamda:0.01",
          "lr:0.1,lamda:0.01",
          "lr:0.1,lamda:0.01",
          "lr:0.1,lamda:0.01",
          "lr:0.1,lamda:0.01",
          "lr:0.1,lamda:0.01",
          "lr:0.1,lamda:0.01",
          "lr:0.1,lamda:0.01",
          "lr:0.1,lamda:0.01",
          "lr:0.1,lamda:0.01",
          "lr:0.1,lamda:0.01",
          "lr:0.1,lamda:0.01",
          "lr:0.1,lamda:0.01",
          "lr:0.1,lamda:0.01",
          "lr:0.1,lamda:0.01",
          "lr:0.1,lamda:0.01",
          "lr:0.1,lamda:0.01",
          "lr:0.1,lamda:0.01",
          "lr:0.1,lamda:0.01",
          "lr:0.1,lamda:0.01",
          "lr:0.1,lamda:0.03",
          "lr:0.1,lamda:0.03",
          "lr:0.1,lamda:0.03",
          "lr:0.1,lamda:0.03",
          "lr:0.1,lamda:0.03",
          "lr:0.1,lamda:0.03",
          "lr:0.1,lamda:0.03",
          "lr:0.1,lamda:0.03",
          "lr:0.1,lamda:0.03",
          "lr:0.1,lamda:0.03",
          "lr:0.1,lamda:0.03",
          "lr:0.1,lamda:0.03",
          "lr:0.1,lamda:0.03",
          "lr:0.1,lamda:0.03",
          "lr:0.1,lamda:0.03",
          "lr:0.1,lamda:0.03",
          "lr:0.1,lamda:0.03",
          "lr:0.1,lamda:0.03",
          "lr:0.1,lamda:0.03",
          "lr:0.1,lamda:0.03",
          "lr:0.1,lamda:0.05",
          "lr:0.1,lamda:0.05",
          "lr:0.1,lamda:0.05",
          "lr:0.1,lamda:0.05",
          "lr:0.1,lamda:0.05",
          "lr:0.1,lamda:0.05",
          "lr:0.1,lamda:0.05",
          "lr:0.1,lamda:0.05",
          "lr:0.1,lamda:0.05",
          "lr:0.1,lamda:0.05",
          "lr:0.1,lamda:0.05",
          "lr:0.1,lamda:0.05",
          "lr:0.1,lamda:0.05",
          "lr:0.1,lamda:0.05",
          "lr:0.1,lamda:0.05",
          "lr:0.1,lamda:0.05",
          "lr:0.1,lamda:0.05",
          "lr:0.1,lamda:0.05",
          "lr:0.1,lamda:0.05",
          "lr:0.1,lamda:0.05"
         ],
         "x0": " ",
         "xaxis": "x",
         "y": [
          0.6345446985645286,
          0.5324035711138345,
          0.5194398298914512,
          0.5004059388399807,
          0.49322911141078474,
          0.48513398922592377,
          0.48434610633960495,
          0.4784851681588927,
          0.4772263624064641,
          0.4692104965295665,
          0.47928732352293113,
          0.4689449393840649,
          0.47866664444840645,
          0.48113363467734505,
          0.46682721636803787,
          0.471702007805562,
          0.47382329613709306,
          0.46501546941697675,
          0.4834422991607067,
          0.49406016315408013,
          0.6699844634260672,
          0.6167724942977861,
          0.6001023926862104,
          0.606412117434344,
          0.6247351129170023,
          0.6118694821378162,
          0.6138462312198194,
          0.6211011774790999,
          0.6178699061983997,
          0.6359046353973901,
          0.621358247376618,
          0.6188842309991335,
          0.6281080435226732,
          0.6278031974579851,
          0.6214629043505914,
          0.6289100289587025,
          0.6259436122195441,
          0.6414063362168465,
          0.6307637676509881,
          0.636612152289697,
          0.7107757823579717,
          0.7033880740539755,
          0.7197675084769014,
          0.7257337151566519,
          0.7283774255965586,
          0.7484192913623344,
          0.7435900611045279,
          0.7507447611088942,
          0.7497336387395818,
          0.7571078436381198,
          0.753357121653292,
          0.7503068411644213,
          0.7445735679594409,
          0.7434858369306094,
          0.7493369888500483,
          0.7532002136660574,
          0.7683745920834024,
          0.783801702600605,
          0.793222711079345,
          0.8066209591767911,
          0.567148813304849,
          0.517346438349051,
          0.5832313765378598,
          null,
          null,
          null,
          null,
          null,
          null,
          null,
          null,
          null,
          null,
          null,
          null,
          null,
          null,
          null,
          null,
          null,
          0.6377183968746741,
          0.6419451303144879,
          0.7724126307616144,
          0.6824589814538597,
          0.7248973369208501,
          0.7304568566080804,
          0.7708188035245628,
          null,
          null,
          null,
          null,
          null,
          null,
          null,
          null,
          null,
          null,
          null,
          null,
          null,
          0.7604242469343521,
          0.8289692815154953,
          0.8160210572924312,
          0.9134863781295397,
          0.9244276299287794,
          0.90253515926456,
          0.9148515783865686,
          0.8889507009011621,
          0.8975033045343915,
          1.2293800131246926,
          0.9250484448438159,
          0.9087517079495773,
          0.9086134299315664,
          1.024243379967608,
          1.066270767085698,
          null,
          null,
          null,
          null,
          null,
          null,
          null,
          null,
          null,
          null,
          null,
          null,
          null,
          null,
          null,
          null,
          null,
          null,
          null,
          null,
          null,
          null,
          null,
          null,
          null,
          null,
          null,
          null,
          null,
          null,
          null,
          null,
          null,
          null,
          null,
          null,
          null,
          null,
          null,
          null,
          null,
          null,
          null,
          null,
          null,
          null,
          null,
          null,
          null,
          null,
          null,
          null,
          null,
          null,
          null,
          null,
          null,
          null,
          null,
          null,
          null,
          null,
          null,
          null,
          null
         ],
         "y0": " ",
         "yaxis": "y"
        }
       ],
       "layout": {
        "boxmode": "group",
        "legend": {
         "tracegroupgap": 0
        },
        "margin": {
         "t": 60
        },
        "template": {
         "data": {
          "bar": [
           {
            "error_x": {
             "color": "#2a3f5f"
            },
            "error_y": {
             "color": "#2a3f5f"
            },
            "marker": {
             "line": {
              "color": "#E5ECF6",
              "width": 0.5
             },
             "pattern": {
              "fillmode": "overlay",
              "size": 10,
              "solidity": 0.2
             }
            },
            "type": "bar"
           }
          ],
          "barpolar": [
           {
            "marker": {
             "line": {
              "color": "#E5ECF6",
              "width": 0.5
             },
             "pattern": {
              "fillmode": "overlay",
              "size": 10,
              "solidity": 0.2
             }
            },
            "type": "barpolar"
           }
          ],
          "carpet": [
           {
            "aaxis": {
             "endlinecolor": "#2a3f5f",
             "gridcolor": "white",
             "linecolor": "white",
             "minorgridcolor": "white",
             "startlinecolor": "#2a3f5f"
            },
            "baxis": {
             "endlinecolor": "#2a3f5f",
             "gridcolor": "white",
             "linecolor": "white",
             "minorgridcolor": "white",
             "startlinecolor": "#2a3f5f"
            },
            "type": "carpet"
           }
          ],
          "choropleth": [
           {
            "colorbar": {
             "outlinewidth": 0,
             "ticks": ""
            },
            "type": "choropleth"
           }
          ],
          "contour": [
           {
            "colorbar": {
             "outlinewidth": 0,
             "ticks": ""
            },
            "colorscale": [
             [
              0,
              "#0d0887"
             ],
             [
              0.1111111111111111,
              "#46039f"
             ],
             [
              0.2222222222222222,
              "#7201a8"
             ],
             [
              0.3333333333333333,
              "#9c179e"
             ],
             [
              0.4444444444444444,
              "#bd3786"
             ],
             [
              0.5555555555555556,
              "#d8576b"
             ],
             [
              0.6666666666666666,
              "#ed7953"
             ],
             [
              0.7777777777777778,
              "#fb9f3a"
             ],
             [
              0.8888888888888888,
              "#fdca26"
             ],
             [
              1,
              "#f0f921"
             ]
            ],
            "type": "contour"
           }
          ],
          "contourcarpet": [
           {
            "colorbar": {
             "outlinewidth": 0,
             "ticks": ""
            },
            "type": "contourcarpet"
           }
          ],
          "heatmap": [
           {
            "colorbar": {
             "outlinewidth": 0,
             "ticks": ""
            },
            "colorscale": [
             [
              0,
              "#0d0887"
             ],
             [
              0.1111111111111111,
              "#46039f"
             ],
             [
              0.2222222222222222,
              "#7201a8"
             ],
             [
              0.3333333333333333,
              "#9c179e"
             ],
             [
              0.4444444444444444,
              "#bd3786"
             ],
             [
              0.5555555555555556,
              "#d8576b"
             ],
             [
              0.6666666666666666,
              "#ed7953"
             ],
             [
              0.7777777777777778,
              "#fb9f3a"
             ],
             [
              0.8888888888888888,
              "#fdca26"
             ],
             [
              1,
              "#f0f921"
             ]
            ],
            "type": "heatmap"
           }
          ],
          "heatmapgl": [
           {
            "colorbar": {
             "outlinewidth": 0,
             "ticks": ""
            },
            "colorscale": [
             [
              0,
              "#0d0887"
             ],
             [
              0.1111111111111111,
              "#46039f"
             ],
             [
              0.2222222222222222,
              "#7201a8"
             ],
             [
              0.3333333333333333,
              "#9c179e"
             ],
             [
              0.4444444444444444,
              "#bd3786"
             ],
             [
              0.5555555555555556,
              "#d8576b"
             ],
             [
              0.6666666666666666,
              "#ed7953"
             ],
             [
              0.7777777777777778,
              "#fb9f3a"
             ],
             [
              0.8888888888888888,
              "#fdca26"
             ],
             [
              1,
              "#f0f921"
             ]
            ],
            "type": "heatmapgl"
           }
          ],
          "histogram": [
           {
            "marker": {
             "pattern": {
              "fillmode": "overlay",
              "size": 10,
              "solidity": 0.2
             }
            },
            "type": "histogram"
           }
          ],
          "histogram2d": [
           {
            "colorbar": {
             "outlinewidth": 0,
             "ticks": ""
            },
            "colorscale": [
             [
              0,
              "#0d0887"
             ],
             [
              0.1111111111111111,
              "#46039f"
             ],
             [
              0.2222222222222222,
              "#7201a8"
             ],
             [
              0.3333333333333333,
              "#9c179e"
             ],
             [
              0.4444444444444444,
              "#bd3786"
             ],
             [
              0.5555555555555556,
              "#d8576b"
             ],
             [
              0.6666666666666666,
              "#ed7953"
             ],
             [
              0.7777777777777778,
              "#fb9f3a"
             ],
             [
              0.8888888888888888,
              "#fdca26"
             ],
             [
              1,
              "#f0f921"
             ]
            ],
            "type": "histogram2d"
           }
          ],
          "histogram2dcontour": [
           {
            "colorbar": {
             "outlinewidth": 0,
             "ticks": ""
            },
            "colorscale": [
             [
              0,
              "#0d0887"
             ],
             [
              0.1111111111111111,
              "#46039f"
             ],
             [
              0.2222222222222222,
              "#7201a8"
             ],
             [
              0.3333333333333333,
              "#9c179e"
             ],
             [
              0.4444444444444444,
              "#bd3786"
             ],
             [
              0.5555555555555556,
              "#d8576b"
             ],
             [
              0.6666666666666666,
              "#ed7953"
             ],
             [
              0.7777777777777778,
              "#fb9f3a"
             ],
             [
              0.8888888888888888,
              "#fdca26"
             ],
             [
              1,
              "#f0f921"
             ]
            ],
            "type": "histogram2dcontour"
           }
          ],
          "mesh3d": [
           {
            "colorbar": {
             "outlinewidth": 0,
             "ticks": ""
            },
            "type": "mesh3d"
           }
          ],
          "parcoords": [
           {
            "line": {
             "colorbar": {
              "outlinewidth": 0,
              "ticks": ""
             }
            },
            "type": "parcoords"
           }
          ],
          "pie": [
           {
            "automargin": true,
            "type": "pie"
           }
          ],
          "scatter": [
           {
            "fillpattern": {
             "fillmode": "overlay",
             "size": 10,
             "solidity": 0.2
            },
            "type": "scatter"
           }
          ],
          "scatter3d": [
           {
            "line": {
             "colorbar": {
              "outlinewidth": 0,
              "ticks": ""
             }
            },
            "marker": {
             "colorbar": {
              "outlinewidth": 0,
              "ticks": ""
             }
            },
            "type": "scatter3d"
           }
          ],
          "scattercarpet": [
           {
            "marker": {
             "colorbar": {
              "outlinewidth": 0,
              "ticks": ""
             }
            },
            "type": "scattercarpet"
           }
          ],
          "scattergeo": [
           {
            "marker": {
             "colorbar": {
              "outlinewidth": 0,
              "ticks": ""
             }
            },
            "type": "scattergeo"
           }
          ],
          "scattergl": [
           {
            "marker": {
             "colorbar": {
              "outlinewidth": 0,
              "ticks": ""
             }
            },
            "type": "scattergl"
           }
          ],
          "scattermapbox": [
           {
            "marker": {
             "colorbar": {
              "outlinewidth": 0,
              "ticks": ""
             }
            },
            "type": "scattermapbox"
           }
          ],
          "scatterpolar": [
           {
            "marker": {
             "colorbar": {
              "outlinewidth": 0,
              "ticks": ""
             }
            },
            "type": "scatterpolar"
           }
          ],
          "scatterpolargl": [
           {
            "marker": {
             "colorbar": {
              "outlinewidth": 0,
              "ticks": ""
             }
            },
            "type": "scatterpolargl"
           }
          ],
          "scatterternary": [
           {
            "marker": {
             "colorbar": {
              "outlinewidth": 0,
              "ticks": ""
             }
            },
            "type": "scatterternary"
           }
          ],
          "surface": [
           {
            "colorbar": {
             "outlinewidth": 0,
             "ticks": ""
            },
            "colorscale": [
             [
              0,
              "#0d0887"
             ],
             [
              0.1111111111111111,
              "#46039f"
             ],
             [
              0.2222222222222222,
              "#7201a8"
             ],
             [
              0.3333333333333333,
              "#9c179e"
             ],
             [
              0.4444444444444444,
              "#bd3786"
             ],
             [
              0.5555555555555556,
              "#d8576b"
             ],
             [
              0.6666666666666666,
              "#ed7953"
             ],
             [
              0.7777777777777778,
              "#fb9f3a"
             ],
             [
              0.8888888888888888,
              "#fdca26"
             ],
             [
              1,
              "#f0f921"
             ]
            ],
            "type": "surface"
           }
          ],
          "table": [
           {
            "cells": {
             "fill": {
              "color": "#EBF0F8"
             },
             "line": {
              "color": "white"
             }
            },
            "header": {
             "fill": {
              "color": "#C8D4E3"
             },
             "line": {
              "color": "white"
             }
            },
            "type": "table"
           }
          ]
         },
         "layout": {
          "annotationdefaults": {
           "arrowcolor": "#2a3f5f",
           "arrowhead": 0,
           "arrowwidth": 1
          },
          "autotypenumbers": "strict",
          "coloraxis": {
           "colorbar": {
            "outlinewidth": 0,
            "ticks": ""
           }
          },
          "colorscale": {
           "diverging": [
            [
             0,
             "#8e0152"
            ],
            [
             0.1,
             "#c51b7d"
            ],
            [
             0.2,
             "#de77ae"
            ],
            [
             0.3,
             "#f1b6da"
            ],
            [
             0.4,
             "#fde0ef"
            ],
            [
             0.5,
             "#f7f7f7"
            ],
            [
             0.6,
             "#e6f5d0"
            ],
            [
             0.7,
             "#b8e186"
            ],
            [
             0.8,
             "#7fbc41"
            ],
            [
             0.9,
             "#4d9221"
            ],
            [
             1,
             "#276419"
            ]
           ],
           "sequential": [
            [
             0,
             "#0d0887"
            ],
            [
             0.1111111111111111,
             "#46039f"
            ],
            [
             0.2222222222222222,
             "#7201a8"
            ],
            [
             0.3333333333333333,
             "#9c179e"
            ],
            [
             0.4444444444444444,
             "#bd3786"
            ],
            [
             0.5555555555555556,
             "#d8576b"
            ],
            [
             0.6666666666666666,
             "#ed7953"
            ],
            [
             0.7777777777777778,
             "#fb9f3a"
            ],
            [
             0.8888888888888888,
             "#fdca26"
            ],
            [
             1,
             "#f0f921"
            ]
           ],
           "sequentialminus": [
            [
             0,
             "#0d0887"
            ],
            [
             0.1111111111111111,
             "#46039f"
            ],
            [
             0.2222222222222222,
             "#7201a8"
            ],
            [
             0.3333333333333333,
             "#9c179e"
            ],
            [
             0.4444444444444444,
             "#bd3786"
            ],
            [
             0.5555555555555556,
             "#d8576b"
            ],
            [
             0.6666666666666666,
             "#ed7953"
            ],
            [
             0.7777777777777778,
             "#fb9f3a"
            ],
            [
             0.8888888888888888,
             "#fdca26"
            ],
            [
             1,
             "#f0f921"
            ]
           ]
          },
          "colorway": [
           "#636efa",
           "#EF553B",
           "#00cc96",
           "#ab63fa",
           "#FFA15A",
           "#19d3f3",
           "#FF6692",
           "#B6E880",
           "#FF97FF",
           "#FECB52"
          ],
          "font": {
           "color": "#2a3f5f"
          },
          "geo": {
           "bgcolor": "white",
           "lakecolor": "white",
           "landcolor": "#E5ECF6",
           "showlakes": true,
           "showland": true,
           "subunitcolor": "white"
          },
          "hoverlabel": {
           "align": "left"
          },
          "hovermode": "closest",
          "mapbox": {
           "style": "light"
          },
          "paper_bgcolor": "white",
          "plot_bgcolor": "#E5ECF6",
          "polar": {
           "angularaxis": {
            "gridcolor": "white",
            "linecolor": "white",
            "ticks": ""
           },
           "bgcolor": "#E5ECF6",
           "radialaxis": {
            "gridcolor": "white",
            "linecolor": "white",
            "ticks": ""
           }
          },
          "scene": {
           "xaxis": {
            "backgroundcolor": "#E5ECF6",
            "gridcolor": "white",
            "gridwidth": 2,
            "linecolor": "white",
            "showbackground": true,
            "ticks": "",
            "zerolinecolor": "white"
           },
           "yaxis": {
            "backgroundcolor": "#E5ECF6",
            "gridcolor": "white",
            "gridwidth": 2,
            "linecolor": "white",
            "showbackground": true,
            "ticks": "",
            "zerolinecolor": "white"
           },
           "zaxis": {
            "backgroundcolor": "#E5ECF6",
            "gridcolor": "white",
            "gridwidth": 2,
            "linecolor": "white",
            "showbackground": true,
            "ticks": "",
            "zerolinecolor": "white"
           }
          },
          "shapedefaults": {
           "line": {
            "color": "#2a3f5f"
           }
          },
          "ternary": {
           "aaxis": {
            "gridcolor": "white",
            "linecolor": "white",
            "ticks": ""
           },
           "baxis": {
            "gridcolor": "white",
            "linecolor": "white",
            "ticks": ""
           },
           "bgcolor": "#E5ECF6",
           "caxis": {
            "gridcolor": "white",
            "linecolor": "white",
            "ticks": ""
           }
          },
          "title": {
           "x": 0.05
          },
          "xaxis": {
           "automargin": true,
           "gridcolor": "white",
           "linecolor": "white",
           "ticks": "",
           "title": {
            "standoff": 15
           },
           "zerolinecolor": "white",
           "zerolinewidth": 2
          },
          "yaxis": {
           "automargin": true,
           "gridcolor": "white",
           "linecolor": "white",
           "ticks": "",
           "title": {
            "standoff": 15
           },
           "zerolinecolor": "white",
           "zerolinewidth": 2
          }
         }
        },
        "xaxis": {
         "anchor": "y",
         "domain": [
          0,
          1
         ],
         "title": {
          "text": "variable"
         }
        },
        "yaxis": {
         "anchor": "x",
         "domain": [
          0,
          1
         ],
         "title": {
          "text": "value"
         }
        }
       }
      },
      "text/html": [
       "<div>                            <div id=\"222ba320-6068-4eba-89ee-97ec48bd6eea\" class=\"plotly-graph-div\" style=\"height:525px; width:100%;\"></div>            <script type=\"text/javascript\">                require([\"plotly\"], function(Plotly) {                    window.PLOTLYENV=window.PLOTLYENV || {};                                    if (document.getElementById(\"222ba320-6068-4eba-89ee-97ec48bd6eea\")) {                    Plotly.newPlot(                        \"222ba320-6068-4eba-89ee-97ec48bd6eea\",                        [{\"alignmentgroup\":\"True\",\"hovertemplate\":\"variable=%{x}<br>value=%{y}<extra></extra>\",\"legendgroup\":\"\",\"marker\":{\"color\":\"#636efa\"},\"name\":\"\",\"notched\":false,\"offsetgroup\":\"\",\"orientation\":\"v\",\"showlegend\":false,\"x\":[\"lr:0.01,lamda:0.01\",\"lr:0.01,lamda:0.01\",\"lr:0.01,lamda:0.01\",\"lr:0.01,lamda:0.01\",\"lr:0.01,lamda:0.01\",\"lr:0.01,lamda:0.01\",\"lr:0.01,lamda:0.01\",\"lr:0.01,lamda:0.01\",\"lr:0.01,lamda:0.01\",\"lr:0.01,lamda:0.01\",\"lr:0.01,lamda:0.01\",\"lr:0.01,lamda:0.01\",\"lr:0.01,lamda:0.01\",\"lr:0.01,lamda:0.01\",\"lr:0.01,lamda:0.01\",\"lr:0.01,lamda:0.01\",\"lr:0.01,lamda:0.01\",\"lr:0.01,lamda:0.01\",\"lr:0.01,lamda:0.01\",\"lr:0.01,lamda:0.01\",\"lr:0.01,lamda:0.03\",\"lr:0.01,lamda:0.03\",\"lr:0.01,lamda:0.03\",\"lr:0.01,lamda:0.03\",\"lr:0.01,lamda:0.03\",\"lr:0.01,lamda:0.03\",\"lr:0.01,lamda:0.03\",\"lr:0.01,lamda:0.03\",\"lr:0.01,lamda:0.03\",\"lr:0.01,lamda:0.03\",\"lr:0.01,lamda:0.03\",\"lr:0.01,lamda:0.03\",\"lr:0.01,lamda:0.03\",\"lr:0.01,lamda:0.03\",\"lr:0.01,lamda:0.03\",\"lr:0.01,lamda:0.03\",\"lr:0.01,lamda:0.03\",\"lr:0.01,lamda:0.03\",\"lr:0.01,lamda:0.03\",\"lr:0.01,lamda:0.03\",\"lr:0.01,lamda:0.05\",\"lr:0.01,lamda:0.05\",\"lr:0.01,lamda:0.05\",\"lr:0.01,lamda:0.05\",\"lr:0.01,lamda:0.05\",\"lr:0.01,lamda:0.05\",\"lr:0.01,lamda:0.05\",\"lr:0.01,lamda:0.05\",\"lr:0.01,lamda:0.05\",\"lr:0.01,lamda:0.05\",\"lr:0.01,lamda:0.05\",\"lr:0.01,lamda:0.05\",\"lr:0.01,lamda:0.05\",\"lr:0.01,lamda:0.05\",\"lr:0.01,lamda:0.05\",\"lr:0.01,lamda:0.05\",\"lr:0.01,lamda:0.05\",\"lr:0.01,lamda:0.05\",\"lr:0.01,lamda:0.05\",\"lr:0.01,lamda:0.05\",\"lr:0.05,lamda:0.01\",\"lr:0.05,lamda:0.01\",\"lr:0.05,lamda:0.01\",\"lr:0.05,lamda:0.01\",\"lr:0.05,lamda:0.01\",\"lr:0.05,lamda:0.01\",\"lr:0.05,lamda:0.01\",\"lr:0.05,lamda:0.01\",\"lr:0.05,lamda:0.01\",\"lr:0.05,lamda:0.01\",\"lr:0.05,lamda:0.01\",\"lr:0.05,lamda:0.01\",\"lr:0.05,lamda:0.01\",\"lr:0.05,lamda:0.01\",\"lr:0.05,lamda:0.01\",\"lr:0.05,lamda:0.01\",\"lr:0.05,lamda:0.01\",\"lr:0.05,lamda:0.01\",\"lr:0.05,lamda:0.01\",\"lr:0.05,lamda:0.01\",\"lr:0.05,lamda:0.03\",\"lr:0.05,lamda:0.03\",\"lr:0.05,lamda:0.03\",\"lr:0.05,lamda:0.03\",\"lr:0.05,lamda:0.03\",\"lr:0.05,lamda:0.03\",\"lr:0.05,lamda:0.03\",\"lr:0.05,lamda:0.03\",\"lr:0.05,lamda:0.03\",\"lr:0.05,lamda:0.03\",\"lr:0.05,lamda:0.03\",\"lr:0.05,lamda:0.03\",\"lr:0.05,lamda:0.03\",\"lr:0.05,lamda:0.03\",\"lr:0.05,lamda:0.03\",\"lr:0.05,lamda:0.03\",\"lr:0.05,lamda:0.03\",\"lr:0.05,lamda:0.03\",\"lr:0.05,lamda:0.03\",\"lr:0.05,lamda:0.03\",\"lr:0.05,lamda:0.05\",\"lr:0.05,lamda:0.05\",\"lr:0.05,lamda:0.05\",\"lr:0.05,lamda:0.05\",\"lr:0.05,lamda:0.05\",\"lr:0.05,lamda:0.05\",\"lr:0.05,lamda:0.05\",\"lr:0.05,lamda:0.05\",\"lr:0.05,lamda:0.05\",\"lr:0.05,lamda:0.05\",\"lr:0.05,lamda:0.05\",\"lr:0.05,lamda:0.05\",\"lr:0.05,lamda:0.05\",\"lr:0.05,lamda:0.05\",\"lr:0.05,lamda:0.05\",\"lr:0.05,lamda:0.05\",\"lr:0.05,lamda:0.05\",\"lr:0.05,lamda:0.05\",\"lr:0.05,lamda:0.05\",\"lr:0.05,lamda:0.05\",\"lr:0.1,lamda:0.01\",\"lr:0.1,lamda:0.01\",\"lr:0.1,lamda:0.01\",\"lr:0.1,lamda:0.01\",\"lr:0.1,lamda:0.01\",\"lr:0.1,lamda:0.01\",\"lr:0.1,lamda:0.01\",\"lr:0.1,lamda:0.01\",\"lr:0.1,lamda:0.01\",\"lr:0.1,lamda:0.01\",\"lr:0.1,lamda:0.01\",\"lr:0.1,lamda:0.01\",\"lr:0.1,lamda:0.01\",\"lr:0.1,lamda:0.01\",\"lr:0.1,lamda:0.01\",\"lr:0.1,lamda:0.01\",\"lr:0.1,lamda:0.01\",\"lr:0.1,lamda:0.01\",\"lr:0.1,lamda:0.01\",\"lr:0.1,lamda:0.01\",\"lr:0.1,lamda:0.03\",\"lr:0.1,lamda:0.03\",\"lr:0.1,lamda:0.03\",\"lr:0.1,lamda:0.03\",\"lr:0.1,lamda:0.03\",\"lr:0.1,lamda:0.03\",\"lr:0.1,lamda:0.03\",\"lr:0.1,lamda:0.03\",\"lr:0.1,lamda:0.03\",\"lr:0.1,lamda:0.03\",\"lr:0.1,lamda:0.03\",\"lr:0.1,lamda:0.03\",\"lr:0.1,lamda:0.03\",\"lr:0.1,lamda:0.03\",\"lr:0.1,lamda:0.03\",\"lr:0.1,lamda:0.03\",\"lr:0.1,lamda:0.03\",\"lr:0.1,lamda:0.03\",\"lr:0.1,lamda:0.03\",\"lr:0.1,lamda:0.03\",\"lr:0.1,lamda:0.05\",\"lr:0.1,lamda:0.05\",\"lr:0.1,lamda:0.05\",\"lr:0.1,lamda:0.05\",\"lr:0.1,lamda:0.05\",\"lr:0.1,lamda:0.05\",\"lr:0.1,lamda:0.05\",\"lr:0.1,lamda:0.05\",\"lr:0.1,lamda:0.05\",\"lr:0.1,lamda:0.05\",\"lr:0.1,lamda:0.05\",\"lr:0.1,lamda:0.05\",\"lr:0.1,lamda:0.05\",\"lr:0.1,lamda:0.05\",\"lr:0.1,lamda:0.05\",\"lr:0.1,lamda:0.05\",\"lr:0.1,lamda:0.05\",\"lr:0.1,lamda:0.05\",\"lr:0.1,lamda:0.05\",\"lr:0.1,lamda:0.05\"],\"x0\":\" \",\"xaxis\":\"x\",\"y\":[0.6345446985645286,0.5324035711138345,0.5194398298914512,0.5004059388399807,0.49322911141078474,0.48513398922592377,0.48434610633960495,0.4784851681588927,0.4772263624064641,0.4692104965295665,0.47928732352293113,0.4689449393840649,0.47866664444840645,0.48113363467734505,0.46682721636803787,0.471702007805562,0.47382329613709306,0.46501546941697675,0.4834422991607067,0.49406016315408013,0.6699844634260672,0.6167724942977861,0.6001023926862104,0.606412117434344,0.6247351129170023,0.6118694821378162,0.6138462312198194,0.6211011774790999,0.6178699061983997,0.6359046353973901,0.621358247376618,0.6188842309991335,0.6281080435226732,0.6278031974579851,0.6214629043505914,0.6289100289587025,0.6259436122195441,0.6414063362168465,0.6307637676509881,0.636612152289697,0.7107757823579717,0.7033880740539755,0.7197675084769014,0.7257337151566519,0.7283774255965586,0.7484192913623344,0.7435900611045279,0.7507447611088942,0.7497336387395818,0.7571078436381198,0.753357121653292,0.7503068411644213,0.7445735679594409,0.7434858369306094,0.7493369888500483,0.7532002136660574,0.7683745920834024,0.783801702600605,0.793222711079345,0.8066209591767911,0.567148813304849,0.517346438349051,0.5832313765378598,null,null,null,null,null,null,null,null,null,null,null,null,null,null,null,null,null,0.6377183968746741,0.6419451303144879,0.7724126307616144,0.6824589814538597,0.7248973369208501,0.7304568566080804,0.7708188035245628,null,null,null,null,null,null,null,null,null,null,null,null,null,0.7604242469343521,0.8289692815154953,0.8160210572924312,0.9134863781295397,0.9244276299287794,0.90253515926456,0.9148515783865686,0.8889507009011621,0.8975033045343915,1.2293800131246926,0.9250484448438159,0.9087517079495773,0.9086134299315664,1.024243379967608,1.066270767085698,null,null,null,null,null,null,null,null,null,null,null,null,null,null,null,null,null,null,null,null,null,null,null,null,null,null,null,null,null,null,null,null,null,null,null,null,null,null,null,null,null,null,null,null,null,null,null,null,null,null,null,null,null,null,null,null,null,null,null,null,null,null,null,null,null],\"y0\":\" \",\"yaxis\":\"y\",\"type\":\"box\"}],                        {\"template\":{\"data\":{\"histogram2dcontour\":[{\"type\":\"histogram2dcontour\",\"colorbar\":{\"outlinewidth\":0,\"ticks\":\"\"},\"colorscale\":[[0.0,\"#0d0887\"],[0.1111111111111111,\"#46039f\"],[0.2222222222222222,\"#7201a8\"],[0.3333333333333333,\"#9c179e\"],[0.4444444444444444,\"#bd3786\"],[0.5555555555555556,\"#d8576b\"],[0.6666666666666666,\"#ed7953\"],[0.7777777777777778,\"#fb9f3a\"],[0.8888888888888888,\"#fdca26\"],[1.0,\"#f0f921\"]]}],\"choropleth\":[{\"type\":\"choropleth\",\"colorbar\":{\"outlinewidth\":0,\"ticks\":\"\"}}],\"histogram2d\":[{\"type\":\"histogram2d\",\"colorbar\":{\"outlinewidth\":0,\"ticks\":\"\"},\"colorscale\":[[0.0,\"#0d0887\"],[0.1111111111111111,\"#46039f\"],[0.2222222222222222,\"#7201a8\"],[0.3333333333333333,\"#9c179e\"],[0.4444444444444444,\"#bd3786\"],[0.5555555555555556,\"#d8576b\"],[0.6666666666666666,\"#ed7953\"],[0.7777777777777778,\"#fb9f3a\"],[0.8888888888888888,\"#fdca26\"],[1.0,\"#f0f921\"]]}],\"heatmap\":[{\"type\":\"heatmap\",\"colorbar\":{\"outlinewidth\":0,\"ticks\":\"\"},\"colorscale\":[[0.0,\"#0d0887\"],[0.1111111111111111,\"#46039f\"],[0.2222222222222222,\"#7201a8\"],[0.3333333333333333,\"#9c179e\"],[0.4444444444444444,\"#bd3786\"],[0.5555555555555556,\"#d8576b\"],[0.6666666666666666,\"#ed7953\"],[0.7777777777777778,\"#fb9f3a\"],[0.8888888888888888,\"#fdca26\"],[1.0,\"#f0f921\"]]}],\"heatmapgl\":[{\"type\":\"heatmapgl\",\"colorbar\":{\"outlinewidth\":0,\"ticks\":\"\"},\"colorscale\":[[0.0,\"#0d0887\"],[0.1111111111111111,\"#46039f\"],[0.2222222222222222,\"#7201a8\"],[0.3333333333333333,\"#9c179e\"],[0.4444444444444444,\"#bd3786\"],[0.5555555555555556,\"#d8576b\"],[0.6666666666666666,\"#ed7953\"],[0.7777777777777778,\"#fb9f3a\"],[0.8888888888888888,\"#fdca26\"],[1.0,\"#f0f921\"]]}],\"contourcarpet\":[{\"type\":\"contourcarpet\",\"colorbar\":{\"outlinewidth\":0,\"ticks\":\"\"}}],\"contour\":[{\"type\":\"contour\",\"colorbar\":{\"outlinewidth\":0,\"ticks\":\"\"},\"colorscale\":[[0.0,\"#0d0887\"],[0.1111111111111111,\"#46039f\"],[0.2222222222222222,\"#7201a8\"],[0.3333333333333333,\"#9c179e\"],[0.4444444444444444,\"#bd3786\"],[0.5555555555555556,\"#d8576b\"],[0.6666666666666666,\"#ed7953\"],[0.7777777777777778,\"#fb9f3a\"],[0.8888888888888888,\"#fdca26\"],[1.0,\"#f0f921\"]]}],\"surface\":[{\"type\":\"surface\",\"colorbar\":{\"outlinewidth\":0,\"ticks\":\"\"},\"colorscale\":[[0.0,\"#0d0887\"],[0.1111111111111111,\"#46039f\"],[0.2222222222222222,\"#7201a8\"],[0.3333333333333333,\"#9c179e\"],[0.4444444444444444,\"#bd3786\"],[0.5555555555555556,\"#d8576b\"],[0.6666666666666666,\"#ed7953\"],[0.7777777777777778,\"#fb9f3a\"],[0.8888888888888888,\"#fdca26\"],[1.0,\"#f0f921\"]]}],\"mesh3d\":[{\"type\":\"mesh3d\",\"colorbar\":{\"outlinewidth\":0,\"ticks\":\"\"}}],\"scatter\":[{\"fillpattern\":{\"fillmode\":\"overlay\",\"size\":10,\"solidity\":0.2},\"type\":\"scatter\"}],\"parcoords\":[{\"type\":\"parcoords\",\"line\":{\"colorbar\":{\"outlinewidth\":0,\"ticks\":\"\"}}}],\"scatterpolargl\":[{\"type\":\"scatterpolargl\",\"marker\":{\"colorbar\":{\"outlinewidth\":0,\"ticks\":\"\"}}}],\"bar\":[{\"error_x\":{\"color\":\"#2a3f5f\"},\"error_y\":{\"color\":\"#2a3f5f\"},\"marker\":{\"line\":{\"color\":\"#E5ECF6\",\"width\":0.5},\"pattern\":{\"fillmode\":\"overlay\",\"size\":10,\"solidity\":0.2}},\"type\":\"bar\"}],\"scattergeo\":[{\"type\":\"scattergeo\",\"marker\":{\"colorbar\":{\"outlinewidth\":0,\"ticks\":\"\"}}}],\"scatterpolar\":[{\"type\":\"scatterpolar\",\"marker\":{\"colorbar\":{\"outlinewidth\":0,\"ticks\":\"\"}}}],\"histogram\":[{\"marker\":{\"pattern\":{\"fillmode\":\"overlay\",\"size\":10,\"solidity\":0.2}},\"type\":\"histogram\"}],\"scattergl\":[{\"type\":\"scattergl\",\"marker\":{\"colorbar\":{\"outlinewidth\":0,\"ticks\":\"\"}}}],\"scatter3d\":[{\"type\":\"scatter3d\",\"line\":{\"colorbar\":{\"outlinewidth\":0,\"ticks\":\"\"}},\"marker\":{\"colorbar\":{\"outlinewidth\":0,\"ticks\":\"\"}}}],\"scattermapbox\":[{\"type\":\"scattermapbox\",\"marker\":{\"colorbar\":{\"outlinewidth\":0,\"ticks\":\"\"}}}],\"scatterternary\":[{\"type\":\"scatterternary\",\"marker\":{\"colorbar\":{\"outlinewidth\":0,\"ticks\":\"\"}}}],\"scattercarpet\":[{\"type\":\"scattercarpet\",\"marker\":{\"colorbar\":{\"outlinewidth\":0,\"ticks\":\"\"}}}],\"carpet\":[{\"aaxis\":{\"endlinecolor\":\"#2a3f5f\",\"gridcolor\":\"white\",\"linecolor\":\"white\",\"minorgridcolor\":\"white\",\"startlinecolor\":\"#2a3f5f\"},\"baxis\":{\"endlinecolor\":\"#2a3f5f\",\"gridcolor\":\"white\",\"linecolor\":\"white\",\"minorgridcolor\":\"white\",\"startlinecolor\":\"#2a3f5f\"},\"type\":\"carpet\"}],\"table\":[{\"cells\":{\"fill\":{\"color\":\"#EBF0F8\"},\"line\":{\"color\":\"white\"}},\"header\":{\"fill\":{\"color\":\"#C8D4E3\"},\"line\":{\"color\":\"white\"}},\"type\":\"table\"}],\"barpolar\":[{\"marker\":{\"line\":{\"color\":\"#E5ECF6\",\"width\":0.5},\"pattern\":{\"fillmode\":\"overlay\",\"size\":10,\"solidity\":0.2}},\"type\":\"barpolar\"}],\"pie\":[{\"automargin\":true,\"type\":\"pie\"}]},\"layout\":{\"autotypenumbers\":\"strict\",\"colorway\":[\"#636efa\",\"#EF553B\",\"#00cc96\",\"#ab63fa\",\"#FFA15A\",\"#19d3f3\",\"#FF6692\",\"#B6E880\",\"#FF97FF\",\"#FECB52\"],\"font\":{\"color\":\"#2a3f5f\"},\"hovermode\":\"closest\",\"hoverlabel\":{\"align\":\"left\"},\"paper_bgcolor\":\"white\",\"plot_bgcolor\":\"#E5ECF6\",\"polar\":{\"bgcolor\":\"#E5ECF6\",\"angularaxis\":{\"gridcolor\":\"white\",\"linecolor\":\"white\",\"ticks\":\"\"},\"radialaxis\":{\"gridcolor\":\"white\",\"linecolor\":\"white\",\"ticks\":\"\"}},\"ternary\":{\"bgcolor\":\"#E5ECF6\",\"aaxis\":{\"gridcolor\":\"white\",\"linecolor\":\"white\",\"ticks\":\"\"},\"baxis\":{\"gridcolor\":\"white\",\"linecolor\":\"white\",\"ticks\":\"\"},\"caxis\":{\"gridcolor\":\"white\",\"linecolor\":\"white\",\"ticks\":\"\"}},\"coloraxis\":{\"colorbar\":{\"outlinewidth\":0,\"ticks\":\"\"}},\"colorscale\":{\"sequential\":[[0.0,\"#0d0887\"],[0.1111111111111111,\"#46039f\"],[0.2222222222222222,\"#7201a8\"],[0.3333333333333333,\"#9c179e\"],[0.4444444444444444,\"#bd3786\"],[0.5555555555555556,\"#d8576b\"],[0.6666666666666666,\"#ed7953\"],[0.7777777777777778,\"#fb9f3a\"],[0.8888888888888888,\"#fdca26\"],[1.0,\"#f0f921\"]],\"sequentialminus\":[[0.0,\"#0d0887\"],[0.1111111111111111,\"#46039f\"],[0.2222222222222222,\"#7201a8\"],[0.3333333333333333,\"#9c179e\"],[0.4444444444444444,\"#bd3786\"],[0.5555555555555556,\"#d8576b\"],[0.6666666666666666,\"#ed7953\"],[0.7777777777777778,\"#fb9f3a\"],[0.8888888888888888,\"#fdca26\"],[1.0,\"#f0f921\"]],\"diverging\":[[0,\"#8e0152\"],[0.1,\"#c51b7d\"],[0.2,\"#de77ae\"],[0.3,\"#f1b6da\"],[0.4,\"#fde0ef\"],[0.5,\"#f7f7f7\"],[0.6,\"#e6f5d0\"],[0.7,\"#b8e186\"],[0.8,\"#7fbc41\"],[0.9,\"#4d9221\"],[1,\"#276419\"]]},\"xaxis\":{\"gridcolor\":\"white\",\"linecolor\":\"white\",\"ticks\":\"\",\"title\":{\"standoff\":15},\"zerolinecolor\":\"white\",\"automargin\":true,\"zerolinewidth\":2},\"yaxis\":{\"gridcolor\":\"white\",\"linecolor\":\"white\",\"ticks\":\"\",\"title\":{\"standoff\":15},\"zerolinecolor\":\"white\",\"automargin\":true,\"zerolinewidth\":2},\"scene\":{\"xaxis\":{\"backgroundcolor\":\"#E5ECF6\",\"gridcolor\":\"white\",\"linecolor\":\"white\",\"showbackground\":true,\"ticks\":\"\",\"zerolinecolor\":\"white\",\"gridwidth\":2},\"yaxis\":{\"backgroundcolor\":\"#E5ECF6\",\"gridcolor\":\"white\",\"linecolor\":\"white\",\"showbackground\":true,\"ticks\":\"\",\"zerolinecolor\":\"white\",\"gridwidth\":2},\"zaxis\":{\"backgroundcolor\":\"#E5ECF6\",\"gridcolor\":\"white\",\"linecolor\":\"white\",\"showbackground\":true,\"ticks\":\"\",\"zerolinecolor\":\"white\",\"gridwidth\":2}},\"shapedefaults\":{\"line\":{\"color\":\"#2a3f5f\"}},\"annotationdefaults\":{\"arrowcolor\":\"#2a3f5f\",\"arrowhead\":0,\"arrowwidth\":1},\"geo\":{\"bgcolor\":\"white\",\"landcolor\":\"#E5ECF6\",\"subunitcolor\":\"white\",\"showland\":true,\"showlakes\":true,\"lakecolor\":\"white\"},\"title\":{\"x\":0.05},\"mapbox\":{\"style\":\"light\"}}},\"xaxis\":{\"anchor\":\"y\",\"domain\":[0.0,1.0],\"title\":{\"text\":\"variable\"}},\"yaxis\":{\"anchor\":\"x\",\"domain\":[0.0,1.0],\"title\":{\"text\":\"value\"}},\"legend\":{\"tracegroupgap\":0},\"margin\":{\"t\":60},\"boxmode\":\"group\"},                        {\"responsive\": true}                    ).then(function(){\n",
       "                            \n",
       "var gd = document.getElementById('222ba320-6068-4eba-89ee-97ec48bd6eea');\n",
       "var x = new MutationObserver(function (mutations, observer) {{\n",
       "        var display = window.getComputedStyle(gd).display;\n",
       "        if (!display || display === 'none') {{\n",
       "            console.log([gd, 'removed!']);\n",
       "            Plotly.purge(gd);\n",
       "            observer.disconnect();\n",
       "        }}\n",
       "}});\n",
       "\n",
       "// Listen for the removal of the full notebook cells\n",
       "var notebookContainer = gd.closest('#notebook-container');\n",
       "if (notebookContainer) {{\n",
       "    x.observe(notebookContainer, {childList: true});\n",
       "}}\n",
       "\n",
       "// Listen for the clearing of the current output cell\n",
       "var outputEl = gd.closest('.output');\n",
       "if (outputEl) {{\n",
       "    x.observe(outputEl, {childList: true});\n",
       "}}\n",
       "\n",
       "                        })                };                });            </script>        </div>"
      ]
     },
     "metadata": {},
     "output_type": "display_data"
    }
   ],
   "source": [
    "px.box(pd.DataFrame(valid_collect))"
   ]
  },
  {
   "cell_type": "markdown",
   "metadata": {},
   "source": [
    "### Based on the above plots, our selected model has the parameters lr = 0.01 and lambda = 0.03."
   ]
  },
  {
   "cell_type": "code",
   "execution_count": 78,
   "metadata": {},
   "outputs": [
    {
     "name": "stderr",
     "output_type": "stream",
     "text": [
      "<ipython-input-9-49bbdb1b7823>:30: DeprecationWarning:\n",
      "\n",
      "Passing None into shape arguments as an alias for () is deprecated.\n",
      "\n",
      "<ipython-input-9-49bbdb1b7823>:31: DeprecationWarning:\n",
      "\n",
      "Passing None into shape arguments as an alias for () is deprecated.\n",
      "\n",
      "<ipython-input-9-49bbdb1b7823>:33: DeprecationWarning:\n",
      "\n",
      "Passing None into shape arguments as an alias for () is deprecated.\n",
      "\n",
      "<ipython-input-9-49bbdb1b7823>:34: DeprecationWarning:\n",
      "\n",
      "Passing None into shape arguments as an alias for () is deprecated.\n",
      "\n"
     ]
    },
    {
     "name": "stdout",
     "output_type": "stream",
     "text": [
      "train cost in 0 is : 0.4890360639546668, ------ , valid cost : 0.4858522621754203\n",
      "train cost in 1 is : 0.4890948036554738, ------ , valid cost : 0.4853755380485835\n",
      "train cost in 2 is : 0.48875215812685596, ------ , valid cost : 0.49345909087880374\n",
      "train cost in 3 is : 0.488893238271432, ------ , valid cost : 0.48985570020679853\n",
      "train cost in 4 is : 0.48914838293924723, ------ , valid cost : 0.49161987517693095\n",
      "train cost in 5 is : 0.48835066042051145, ------ , valid cost : 0.4899143807138332\n",
      "train cost in 6 is : 0.4864372140227855, ------ , valid cost : 0.5063415041314985\n",
      "train cost in 7 is : 0.4857006505493511, ------ , valid cost : 0.4800797213728529\n",
      "train cost in 8 is : 0.4842706887953637, ------ , valid cost : 0.4865242183435373\n",
      "train cost in 9 is : 0.48463843299800885, ------ , valid cost : 0.48906816338034215\n",
      "train cost in 10 is : 0.4851378019907788, ------ , valid cost : 0.5070460197773566\n",
      "train cost in 11 is : 0.48378436242062034, ------ , valid cost : 0.48725710746547124\n",
      "train cost in 12 is : 0.4841290604611446, ------ , valid cost : 0.48019517035375103\n",
      "train cost in 13 is : 0.4841387677847604, ------ , valid cost : 0.4815949406755216\n",
      "train cost in 14 is : 0.48491691980166857, ------ , valid cost : 0.48346721692849465\n",
      "train cost in 15 is : 0.4862602654975156, ------ , valid cost : 0.5090384603112168\n",
      "train cost in 16 is : 0.48610089877076745, ------ , valid cost : 0.4950246419416796\n",
      "train cost in 17 is : 0.4878210098330812, ------ , valid cost : 0.49700871964408966\n",
      "train cost in 18 is : 0.490526925464981, ------ , valid cost : 0.48192692540397036\n",
      "train cost in 19 is : 0.4905376597957941, ------ , valid cost : 0.4833197821847508\n"
     ]
    }
   ],
   "source": [
    "np.random.seed(42)\n",
    "input_size = 784\n",
    "output_size = 10\n",
    "hiddens = [32, 32, 32]\n",
    "criterion = SoftmaxCrossEntropy()\n",
    "activations = [ELU(), ELU(), ELU(),Softmax()]\n",
    "lr = 0.01\n",
    "best_model = MLP(input_size, output_size, hiddens, activations, lr, criterion, lamda=0.03)\n",
    "train_collcect , val_collect = model.fit(x_train, y_train, epoch=20, batch_size=32,\n",
    "                                                x_val=x_val, y_val=y_val)\n"
   ]
  },
  {
   "cell_type": "markdown",
   "metadata": {},
   "source": [
    "### Finally, we calculate the model's predictions for the targets."
   ]
  },
  {
   "cell_type": "code",
   "execution_count": 73,
   "metadata": {},
   "outputs": [
    {
     "name": "stdout",
     "output_type": "stream",
     "text": [
      "array([9, 2, 1, ..., 8, 1, 5], dtype=int64)\n"
     ]
    },
    {
     "name": "stderr",
     "output_type": "stream",
     "text": [
      "<ipython-input-8-714293817c37>:32: RuntimeWarning:\n",
      "\n",
      "overflow encountered in exp\n",
      "\n",
      "<ipython-input-8-714293817c37>:32: RuntimeWarning:\n",
      "\n",
      "invalid value encountered in true_divide\n",
      "\n"
     ]
    }
   ],
   "source": [
    "target_predict = best_model.forward(x_test)\n",
    "target_predict = np.argmax(target_predict, axis=1)\n",
    "target_predict"
   ]
  },
  {
   "cell_type": "markdown",
   "metadata": {},
   "source": [
    "## Calculate the accurace of Model"
   ]
  },
  {
   "cell_type": "code",
   "execution_count": 84,
   "metadata": {},
   "outputs": [
    {
     "name": "stdout",
     "output_type": "stream",
     "text": [
      "accuracy on test data is: 78%\n"
     ]
    }
   ],
   "source": [
    "accuracy = sum(target_predict==y_test)/len(y_test)\n",
    "print(\"accuracy on test data is: \", accuracy ,+ \"%\")"
   ]
  }
 ],
 "metadata": {
  "kernelspec": {
   "display_name": "Python 3",
   "language": "python",
   "name": "python3"
  },
  "language_info": {
   "codemirror_mode": {
    "name": "ipython",
    "version": 3
   },
   "file_extension": ".py",
   "mimetype": "text/x-python",
   "name": "python",
   "nbconvert_exporter": "python",
   "pygments_lexer": "ipython3",
   "version": "3.8.3"
  }
 },
 "nbformat": 4,
 "nbformat_minor": 4
}
